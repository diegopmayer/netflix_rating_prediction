{
 "cells": [
  {
   "cell_type": "markdown",
   "metadata": {},
   "source": [
    "# NetFlix Rating Prediction"
   ]
  },
  {
   "cell_type": "markdown",
   "metadata": {},
   "source": [
    "For more information about the project structure and description see the github repository <b><a href=\"https://github.com/diegopmayer/netflix_rating_prediction\">click here</a>"
   ]
  },
  {
   "cell_type": "markdown",
   "metadata": {},
   "source": [
    "## 1.0 - Importing"
   ]
  },
  {
   "cell_type": "markdown",
   "metadata": {},
   "source": [
    "### 1.1 - Libraries"
   ]
  },
  {
   "cell_type": "code",
   "execution_count": 520,
   "metadata": {},
   "outputs": [],
   "source": [
    "import pandas as pd\n",
    "import numpy as np\n",
    "\n",
    "import seaborn as sns\n",
    "import matplotlib.pyplot as plt\n",
    "\n",
    "from IPython.core.display  import HTML\n",
    "from IPython.display       import Image\n",
    "\n",
    "from sklearn.preprocessing import RobustScaler\n",
    "from sklearn.model_selection import train_test_split\n",
    "from sklearn.ensemble import RandomForestRegressor\n",
    "from sklearn import linear_model\n",
    "from sklearn import svm\n",
    "\n",
    "from sklearn.linear_model import Lasso, LinearRegression\n",
    "from sklearn.metrics import mean_absolute_error"
   ]
  },
  {
   "cell_type": "markdown",
   "metadata": {},
   "source": [
    "### 1.2 - Helper Functions"
   ]
  },
  {
   "cell_type": "code",
   "execution_count": 498,
   "metadata": {},
   "outputs": [
    {
     "data": {
      "text/html": [
       "<style>.container{width:90% !important; }</style>"
      ],
      "text/plain": [
       "<IPython.core.display.HTML object>"
      ]
     },
     "metadata": {},
     "output_type": "display_data"
    }
   ],
   "source": [
    "def jupyter_settings():\n",
    "    %matplotlib inline\n",
    "    \n",
    "    plt.style.use('bmh')\n",
    "    plt.rcParams['figure.figsize'] = [18,9]\n",
    "    plt.rcParams['font.size'] = 24\n",
    "    \n",
    "    display( HTML('<style>.container{width:90% !important; }</style>'))\n",
    "    pd.options.display.max_columns = None\n",
    "    pd.options.display.max_rows = None\n",
    "    pd.set_option('display.expand_frame_repr', False)\n",
    "    \n",
    "    sns.set()\n",
    "jupyter_settings()  \n",
    "\n",
    "def cramer_v(x, y):\n",
    "\n",
    "    # cm is Confusion Matrix\n",
    "    cm = pd.crosstab(x, y).values\n",
    "    chi2 = ss.chi2_contingency(cm)[0]\n",
    "    n = cm.sum()\n",
    "    r, k = cm.shape\n",
    "    \n",
    "    return np.sqrt((chi2/n) / min(k-1, r-1))\n",
    "\n",
    "def data_cleaning(data):\n",
    "\n",
    "\t# delete and replace all nullable values\n",
    "\tdata = data[data['rating'].notnull()]\n",
    "\tdata = data.dropna(how='all') # delet the line if all line null\n",
    "\tdata['date_added'] = data['date_added'].fillna('1970-01-01')\n",
    "\tdata['release_year'] = data['release_year'].fillna(0)\n",
    "\tdata['rating'] = data['rating'].fillna(0)\n",
    "\tdata['duration'].fillna(0)\n",
    "\tdata = data.fillna('')\n",
    "\t\n",
    "\t\n",
    "\t# string cleaning\n",
    "\t# removing the string and left only minutes\n",
    "\tind_season = data[data['duration'].str.contains('Season')].index\n",
    "\tdata[\"duration\"] = data[\"duration\"].replace(\" Season\", \"\", regex=True)\n",
    "\tdata[\"duration\"] = data[\"duration\"].replace(\" min\", \"\", regex=True)\n",
    "\tdata[\"duration\"] = data[\"duration\"].replace(\"s\", \"\", regex=True)\n",
    "\tdata[\"duration\"] = data[\"duration\"].astype(\"int\")\n",
    "\t# replace the TV show value for mode from movie\n",
    "\tdata.loc[ind_season, 'duration'] = 51 # mean time of episodes\n",
    "\t\n",
    "\t# change dtype for simply, less memory and better performance\n",
    "\tdata['date_added'] = pd.to_datetime(data['date_added'])\n",
    "\tdata['release_year'] = data['release_year'].astype('int32')\n",
    "\tdata['rating'] = data['rating'].astype('int32')\n",
    "\tdf_cleaned = data\n",
    "\t\n",
    "\treturn df_cleaned\n",
    "\n",
    "\t\n",
    "def feature_eng(df_cleaned):\n",
    "\tdf_cleaned['type'] = df_cleaned['type'].map({'Movie':0, 'TV Show':1})\n",
    "\tdf_cleaned['year_added'] = df_cleaned['date_added'].dt.year\n",
    "\tdf_cleaned['month_added'] = df_cleaned['date_added'].dt.month\n",
    "\tdf_cleaned['day_added'] = df_cleaned['date_added'].dt.day\n",
    "\n",
    "\t\t# drop columns\n",
    "\tdf_cleaned = df_cleaned.drop([\n",
    "\t\t'show_id',\n",
    "\t\t'title', \n",
    "\t\t'director', \n",
    "\t\t'cast', \n",
    "\t\t'listed_in', \n",
    "\t\t'description'\n",
    "\t], axis=1)\n",
    "\t\n",
    "\t# filter values\n",
    "\tdf_cleaned = df_cleaned[df_cleaned['rating'] > 0]\n",
    "\tdf_eng = df_cleaned.drop(['date_added'], axis=1)\n",
    "\n",
    "\treturn df_eng\n",
    "\n",
    "\n",
    "def data_transformation(df_eng):\n",
    "\t\n",
    "\t# duration\n",
    "\trs = RobustScaler()\n",
    "\tdf_eng['duration'] = rs.fit_transform(df_eng[['duration']].values)\n",
    "\t\n",
    "\t# country\n",
    "\tdf_dum = pd.get_dummies(df_eng['country'])\n",
    "\tdf_dum_red = pd.DataFrame()\n",
    "\tfor col in df_dum:\n",
    "\t\tif df_dum[col].sum() > 5:\n",
    "\t\t\tdf_dum_red[col] = df_dum[col]\n",
    "\tdf_eng = pd.concat([df_eng, df_dum_red], axis=1)\n",
    "\tdf_eng = df_eng.drop(['country'], axis=1)\n",
    "\n",
    "\t# renaming columns\n",
    "\tcol_list = list()\n",
    "\tfor col in df_eng.columns.to_list():\n",
    "\t\tcol_list.append(col.replace(' ', '_').replace(',', ''))\n",
    "\tdf_eng.columns = col_list\n",
    "\n",
    "\tdf_transf = df_eng\n",
    "\n",
    "\treturn df_transf"
   ]
  },
  {
   "cell_type": "markdown",
   "metadata": {},
   "source": [
    "### 1.3 - Extracting Data"
   ]
  },
  {
   "cell_type": "code",
   "execution_count": 103,
   "metadata": {},
   "outputs": [],
   "source": [
    "data = pd.read_excel(\"../dataset/bronze/dataset_netflix.xlsx\")"
   ]
  },
  {
   "cell_type": "code",
   "execution_count": 104,
   "metadata": {},
   "outputs": [],
   "source": [
    "#  Let' split the train and test because of data leakage\n",
    "X_train, X_test, y_train, y_test = train_test_split(data, data[\"rating\"], test_size=0.15)\n",
    "X_train.drop([\"rating\"], axis=1,inplace=True)\n",
    "X_test.drop([\"rating\"], axis=1,inplace=True)\n",
    "\n",
    "# training and validation split\n",
    "df_train = pd.concat([X_train, y_train], axis=1)\n",
    "df_test = pd.concat([X_test, y_test], axis=1)"
   ]
  },
  {
   "cell_type": "markdown",
   "metadata": {},
   "source": [
    "## 2.0 - Data Cleaning"
   ]
  },
  {
   "cell_type": "code",
   "execution_count": 105,
   "metadata": {},
   "outputs": [
    {
     "data": {
      "text/plain": [
       "((6234, 12), (5298, 12), (936, 12))"
      ]
     },
     "execution_count": 105,
     "metadata": {},
     "output_type": "execute_result"
    }
   ],
   "source": [
    "# Dimension data\n",
    "data.shape, df_train.shape, df_test.shape"
   ]
  },
  {
   "cell_type": "markdown",
   "metadata": {},
   "source": [
    "### 2.2 - Descriptive Statistical"
   ]
  },
  {
   "cell_type": "code",
   "execution_count": 6,
   "metadata": {},
   "outputs": [
    {
     "data": {
      "text/html": [
       "<div>\n",
       "<style scoped>\n",
       "    .dataframe tbody tr th:only-of-type {\n",
       "        vertical-align: middle;\n",
       "    }\n",
       "\n",
       "    .dataframe tbody tr th {\n",
       "        vertical-align: top;\n",
       "    }\n",
       "\n",
       "    .dataframe thead th {\n",
       "        text-align: right;\n",
       "    }\n",
       "</style>\n",
       "<table border=\"1\" class=\"dataframe\">\n",
       "  <thead>\n",
       "    <tr style=\"text-align: right;\">\n",
       "      <th></th>\n",
       "      <th>count</th>\n",
       "      <th>mean</th>\n",
       "      <th>std</th>\n",
       "      <th>min</th>\n",
       "      <th>25%</th>\n",
       "      <th>50%</th>\n",
       "      <th>75%</th>\n",
       "      <th>max</th>\n",
       "      <th>kurtosis</th>\n",
       "      <th>skew</th>\n",
       "    </tr>\n",
       "  </thead>\n",
       "  <tbody>\n",
       "    <tr>\n",
       "      <th>show_id</th>\n",
       "      <td>6234.0</td>\n",
       "      <td>76703679.0</td>\n",
       "      <td>10942965.0</td>\n",
       "      <td>247747.0</td>\n",
       "      <td>80035802.0</td>\n",
       "      <td>80163367.0</td>\n",
       "      <td>80244889.0</td>\n",
       "      <td>81235729.0</td>\n",
       "      <td>30.0</td>\n",
       "      <td>-5.0</td>\n",
       "    </tr>\n",
       "    <tr>\n",
       "      <th>release_year</th>\n",
       "      <td>6233.0</td>\n",
       "      <td>2013.0</td>\n",
       "      <td>9.0</td>\n",
       "      <td>1925.0</td>\n",
       "      <td>2013.0</td>\n",
       "      <td>2016.0</td>\n",
       "      <td>2018.0</td>\n",
       "      <td>2020.0</td>\n",
       "      <td>18.0</td>\n",
       "      <td>-4.0</td>\n",
       "    </tr>\n",
       "    <tr>\n",
       "      <th>rating</th>\n",
       "      <td>6233.0</td>\n",
       "      <td>64.0</td>\n",
       "      <td>19.0</td>\n",
       "      <td>0.0</td>\n",
       "      <td>59.0</td>\n",
       "      <td>68.0</td>\n",
       "      <td>76.0</td>\n",
       "      <td>97.0</td>\n",
       "      <td>4.0</td>\n",
       "      <td>-2.0</td>\n",
       "    </tr>\n",
       "  </tbody>\n",
       "</table>\n",
       "</div>"
      ],
      "text/plain": [
       "               count        mean         std       min         25%         50%         75%         max  kurtosis  skew\n",
       "show_id       6234.0  76703679.0  10942965.0  247747.0  80035802.0  80163367.0  80244889.0  81235729.0      30.0  -5.0\n",
       "release_year  6233.0      2013.0         9.0    1925.0      2013.0      2016.0      2018.0      2020.0      18.0  -4.0\n",
       "rating        6233.0        64.0        19.0       0.0        59.0        68.0        76.0        97.0       4.0  -2.0"
      ]
     },
     "execution_count": 6,
     "metadata": {},
     "output_type": "execute_result"
    }
   ],
   "source": [
    "# Numerical describe\n",
    "num_data = (\n",
    "    data.select_dtypes(\n",
    "    include=['int64', 'int32', 'float64', 'float32']))\n",
    "num_describe = (pd.concat([\n",
    "    num_data.describe().T,\n",
    "    pd.Series(num_data.kurtosis(), name='kurtosis'),\n",
    "    pd.Series(num_data.skew(), name='skew')\n",
    "    ], axis=1).round())\n",
    "num_describe\n",
    "\n",
    "# The Frequency is a peak and a little negative skew."
   ]
  },
  {
   "cell_type": "code",
   "execution_count": 7,
   "metadata": {},
   "outputs": [
    {
     "data": {
      "text/html": [
       "<div>\n",
       "<style scoped>\n",
       "    .dataframe tbody tr th:only-of-type {\n",
       "        vertical-align: middle;\n",
       "    }\n",
       "\n",
       "    .dataframe tbody tr th {\n",
       "        vertical-align: top;\n",
       "    }\n",
       "\n",
       "    .dataframe thead th {\n",
       "        text-align: right;\n",
       "    }\n",
       "</style>\n",
       "<table border=\"1\" class=\"dataframe\">\n",
       "  <thead>\n",
       "    <tr style=\"text-align: right;\">\n",
       "      <th></th>\n",
       "      <th>count</th>\n",
       "      <th>unique</th>\n",
       "      <th>top</th>\n",
       "      <th>freq</th>\n",
       "    </tr>\n",
       "  </thead>\n",
       "  <tbody>\n",
       "    <tr>\n",
       "      <th>type</th>\n",
       "      <td>6234</td>\n",
       "      <td>2</td>\n",
       "      <td>Movie</td>\n",
       "      <td>4265</td>\n",
       "    </tr>\n",
       "    <tr>\n",
       "      <th>title</th>\n",
       "      <td>6234</td>\n",
       "      <td>6172</td>\n",
       "      <td>The Silence</td>\n",
       "      <td>3</td>\n",
       "    </tr>\n",
       "    <tr>\n",
       "      <th>director</th>\n",
       "      <td>4264</td>\n",
       "      <td>3300</td>\n",
       "      <td>Raúl Campos, Jan Suter</td>\n",
       "      <td>18</td>\n",
       "    </tr>\n",
       "    <tr>\n",
       "      <th>cast</th>\n",
       "      <td>6233</td>\n",
       "      <td>5470</td>\n",
       "      <td>bam</td>\n",
       "      <td>569</td>\n",
       "    </tr>\n",
       "    <tr>\n",
       "      <th>country</th>\n",
       "      <td>6233</td>\n",
       "      <td>555</td>\n",
       "      <td>United States</td>\n",
       "      <td>2031</td>\n",
       "    </tr>\n",
       "    <tr>\n",
       "      <th>duration</th>\n",
       "      <td>6233</td>\n",
       "      <td>201</td>\n",
       "      <td>1 Season</td>\n",
       "      <td>1321</td>\n",
       "    </tr>\n",
       "    <tr>\n",
       "      <th>listed_in</th>\n",
       "      <td>6233</td>\n",
       "      <td>461</td>\n",
       "      <td>Documentaries</td>\n",
       "      <td>299</td>\n",
       "    </tr>\n",
       "    <tr>\n",
       "      <th>description</th>\n",
       "      <td>6233</td>\n",
       "      <td>6225</td>\n",
       "      <td>A surly septuagenarian gets another chance at ...</td>\n",
       "      <td>3</td>\n",
       "    </tr>\n",
       "  </tbody>\n",
       "</table>\n",
       "</div>"
      ],
      "text/plain": [
       "            count unique                                                top  freq\n",
       "type         6234      2                                              Movie  4265\n",
       "title        6234   6172                                        The Silence     3\n",
       "director     4264   3300                             Raúl Campos, Jan Suter    18\n",
       "cast         6233   5470                                                bam   569\n",
       "country      6233    555                                      United States  2031\n",
       "duration     6233    201                                           1 Season  1321\n",
       "listed_in    6233    461                                      Documentaries   299\n",
       "description  6233   6225  A surly septuagenarian gets another chance at ...     3"
      ]
     },
     "execution_count": 7,
     "metadata": {},
     "output_type": "execute_result"
    }
   ],
   "source": [
    "# Categorical\n",
    "data.select_dtypes(\n",
    "include=['object', 'string']).describe().T\n",
    "# The top more watched was movie from the United States \"before cleaning\""
   ]
  },
  {
   "cell_type": "code",
   "execution_count": 8,
   "metadata": {},
   "outputs": [
    {
     "data": {
      "text/html": [
       "<div>\n",
       "<style scoped>\n",
       "    .dataframe tbody tr th:only-of-type {\n",
       "        vertical-align: middle;\n",
       "    }\n",
       "\n",
       "    .dataframe tbody tr th {\n",
       "        vertical-align: top;\n",
       "    }\n",
       "\n",
       "    .dataframe thead th {\n",
       "        text-align: right;\n",
       "    }\n",
       "</style>\n",
       "<table border=\"1\" class=\"dataframe\">\n",
       "  <thead>\n",
       "    <tr style=\"text-align: right;\">\n",
       "      <th></th>\n",
       "      <th>count</th>\n",
       "      <th>mean</th>\n",
       "      <th>min</th>\n",
       "      <th>25%</th>\n",
       "      <th>50%</th>\n",
       "      <th>75%</th>\n",
       "      <th>max</th>\n",
       "    </tr>\n",
       "  </thead>\n",
       "  <tbody>\n",
       "    <tr>\n",
       "      <th>date_added</th>\n",
       "      <td>6222</td>\n",
       "      <td>2018-07-01 17:22:37.377049088</td>\n",
       "      <td>2008-01-01</td>\n",
       "      <td>2017-10-01</td>\n",
       "      <td>2018-09-30</td>\n",
       "      <td>2019-06-08</td>\n",
       "      <td>2020-01-18</td>\n",
       "    </tr>\n",
       "  </tbody>\n",
       "</table>\n",
       "</div>"
      ],
      "text/plain": [
       "           count                          mean        min        25%        50%        75%        max\n",
       "date_added  6222 2018-07-01 17:22:37.377049088 2008-01-01 2017-10-01 2018-09-30 2019-06-08 2020-01-18"
      ]
     },
     "execution_count": 8,
     "metadata": {},
     "output_type": "execute_result"
    }
   ],
   "source": [
    "# Date describe\n",
    "data.describe(include=['datetime'], datetime_is_numeric=True).T"
   ]
  },
  {
   "cell_type": "markdown",
   "metadata": {},
   "source": [
    "### 2.4 - Data Types and Nullable values"
   ]
  },
  {
   "cell_type": "code",
   "execution_count": 9,
   "metadata": {},
   "outputs": [
    {
     "data": {
      "text/html": [
       "<div>\n",
       "<style scoped>\n",
       "    .dataframe tbody tr th:only-of-type {\n",
       "        vertical-align: middle;\n",
       "    }\n",
       "\n",
       "    .dataframe tbody tr th {\n",
       "        vertical-align: top;\n",
       "    }\n",
       "\n",
       "    .dataframe thead th {\n",
       "        text-align: right;\n",
       "    }\n",
       "</style>\n",
       "<table border=\"1\" class=\"dataframe\">\n",
       "  <thead>\n",
       "    <tr style=\"text-align: right;\">\n",
       "      <th></th>\n",
       "      <th>dtypes</th>\n",
       "      <th>null_values</th>\n",
       "      <th>0</th>\n",
       "      <th>1</th>\n",
       "      <th>2</th>\n",
       "    </tr>\n",
       "  </thead>\n",
       "  <tbody>\n",
       "    <tr>\n",
       "      <th>show_id</th>\n",
       "      <td>int64</td>\n",
       "      <td>0</td>\n",
       "      <td>81145628</td>\n",
       "      <td>80117401</td>\n",
       "      <td>70234439</td>\n",
       "    </tr>\n",
       "    <tr>\n",
       "      <th>type</th>\n",
       "      <td>object</td>\n",
       "      <td>0</td>\n",
       "      <td>Movie</td>\n",
       "      <td>Movie</td>\n",
       "      <td>TV Show</td>\n",
       "    </tr>\n",
       "    <tr>\n",
       "      <th>title</th>\n",
       "      <td>object</td>\n",
       "      <td>0</td>\n",
       "      <td>Norm of the North: King Sized Adventure</td>\n",
       "      <td>Jandino: Whatever it Takes</td>\n",
       "      <td>Transformers Prime</td>\n",
       "    </tr>\n",
       "    <tr>\n",
       "      <th>director</th>\n",
       "      <td>object</td>\n",
       "      <td>1970</td>\n",
       "      <td>Richard Finn, Tim Maltby</td>\n",
       "      <td>NaN</td>\n",
       "      <td>NaN</td>\n",
       "    </tr>\n",
       "    <tr>\n",
       "      <th>cast</th>\n",
       "      <td>object</td>\n",
       "      <td>1</td>\n",
       "      <td>Alan Marriott, Andrew Toth, Brian Dobson, Cole...</td>\n",
       "      <td>Jandino Asporaat</td>\n",
       "      <td>Peter Cullen, Sumalee Montano, Frank Welker, J...</td>\n",
       "    </tr>\n",
       "    <tr>\n",
       "      <th>country</th>\n",
       "      <td>object</td>\n",
       "      <td>1</td>\n",
       "      <td>United States, India, South Korea, China</td>\n",
       "      <td>United Kingdom</td>\n",
       "      <td>United States</td>\n",
       "    </tr>\n",
       "    <tr>\n",
       "      <th>date_added</th>\n",
       "      <td>datetime64[ns]</td>\n",
       "      <td>12</td>\n",
       "      <td>2019-09-09 00:00:00</td>\n",
       "      <td>2016-09-09 00:00:00</td>\n",
       "      <td>2018-09-08 00:00:00</td>\n",
       "    </tr>\n",
       "    <tr>\n",
       "      <th>release_year</th>\n",
       "      <td>float64</td>\n",
       "      <td>1</td>\n",
       "      <td>2019.0</td>\n",
       "      <td>2016.0</td>\n",
       "      <td>2013.0</td>\n",
       "    </tr>\n",
       "    <tr>\n",
       "      <th>rating</th>\n",
       "      <td>float64</td>\n",
       "      <td>1</td>\n",
       "      <td>41.0</td>\n",
       "      <td>52.0</td>\n",
       "      <td>82.0</td>\n",
       "    </tr>\n",
       "    <tr>\n",
       "      <th>duration</th>\n",
       "      <td>object</td>\n",
       "      <td>1</td>\n",
       "      <td>90 min</td>\n",
       "      <td>94 min</td>\n",
       "      <td>1 Season</td>\n",
       "    </tr>\n",
       "    <tr>\n",
       "      <th>listed_in</th>\n",
       "      <td>object</td>\n",
       "      <td>1</td>\n",
       "      <td>Children &amp; Family Movies, Comedies</td>\n",
       "      <td>Stand-Up Comedy</td>\n",
       "      <td>Kids' TV</td>\n",
       "    </tr>\n",
       "    <tr>\n",
       "      <th>description</th>\n",
       "      <td>object</td>\n",
       "      <td>1</td>\n",
       "      <td>Before planning an awesome wedding for his gra...</td>\n",
       "      <td>Jandino Asporaat riffs on the challenges of ra...</td>\n",
       "      <td>With the help of three human allies, the Autob...</td>\n",
       "    </tr>\n",
       "  </tbody>\n",
       "</table>\n",
       "</div>"
      ],
      "text/plain": [
       "                      dtypes  null_values                                                  0                                                  1                                                  2\n",
       "show_id                int64            0                                           81145628                                           80117401                                           70234439\n",
       "type                  object            0                                              Movie                                              Movie                                            TV Show\n",
       "title                 object            0            Norm of the North: King Sized Adventure                         Jandino: Whatever it Takes                                 Transformers Prime\n",
       "director              object         1970                           Richard Finn, Tim Maltby                                                NaN                                                NaN\n",
       "cast                  object            1  Alan Marriott, Andrew Toth, Brian Dobson, Cole...                                   Jandino Asporaat  Peter Cullen, Sumalee Montano, Frank Welker, J...\n",
       "country               object            1           United States, India, South Korea, China                                     United Kingdom                                      United States\n",
       "date_added    datetime64[ns]           12                                2019-09-09 00:00:00                                2016-09-09 00:00:00                                2018-09-08 00:00:00\n",
       "release_year         float64            1                                             2019.0                                             2016.0                                             2013.0\n",
       "rating               float64            1                                               41.0                                               52.0                                               82.0\n",
       "duration              object            1                                             90 min                                             94 min                                           1 Season\n",
       "listed_in             object            1                 Children & Family Movies, Comedies                                    Stand-Up Comedy                                           Kids' TV\n",
       "description           object            1  Before planning an awesome wedding for his gra...  Jandino Asporaat riffs on the challenges of ra...  With the help of three human allies, the Autob..."
      ]
     },
     "execution_count": 9,
     "metadata": {},
     "output_type": "execute_result"
    }
   ],
   "source": [
    "pd.concat([\n",
    "    pd.Series(data.dtypes, name='dtypes'), \n",
    "    pd.Series(data.isna().sum(), name='null_values'), \n",
    "    data.head(3).T], \n",
    "    axis=1)\n",
    "    # The target has one null value, this case I'll delete them and replace the others nullable values"
   ]
  },
  {
   "cell_type": "code",
   "execution_count": 405,
   "metadata": {},
   "outputs": [],
   "source": [
    "# Variables changes\n",
    "def var_changes(data):\n",
    "        \n",
    "    # delete and replace all nullable values\n",
    "    data = data[data['rating'].notnull()]\n",
    "    data = data.dropna(how='all') # delet the line if all line null\n",
    "    data['date_added'] = data['date_added'].fillna('1970-01-01')\n",
    "    data['release_year'] = data['release_year'].fillna(0)\n",
    "    data['rating'] = data['rating'].fillna(0)\n",
    "    data = data.fillna('')\n",
    "\n",
    "    # change dtype for simply, less memory and better performance\n",
    "    data['date_added'] = pd.to_datetime(data['date_added'])\n",
    "    data['release_year'] = data['release_year'].astype('int32')\n",
    "    data['rating'] = data['rating'].astype('int32')\n",
    "    return data\n",
    "\n",
    "data = var_changes(data)\n",
    "df_train = var_changes(df_train)\n",
    "df_test = var_changes(df_test)\n"
   ]
  },
  {
   "cell_type": "code",
   "execution_count": 11,
   "metadata": {},
   "outputs": [
    {
     "data": {
      "text/html": [
       "<div>\n",
       "<style scoped>\n",
       "    .dataframe tbody tr th:only-of-type {\n",
       "        vertical-align: middle;\n",
       "    }\n",
       "\n",
       "    .dataframe tbody tr th {\n",
       "        vertical-align: top;\n",
       "    }\n",
       "\n",
       "    .dataframe thead th {\n",
       "        text-align: right;\n",
       "    }\n",
       "</style>\n",
       "<table border=\"1\" class=\"dataframe\">\n",
       "  <thead>\n",
       "    <tr style=\"text-align: right;\">\n",
       "      <th></th>\n",
       "      <th>dtypes</th>\n",
       "      <th>null_values</th>\n",
       "      <th>0</th>\n",
       "      <th>1</th>\n",
       "      <th>2</th>\n",
       "    </tr>\n",
       "  </thead>\n",
       "  <tbody>\n",
       "    <tr>\n",
       "      <th>show_id</th>\n",
       "      <td>int64</td>\n",
       "      <td>0</td>\n",
       "      <td>81145628</td>\n",
       "      <td>80117401</td>\n",
       "      <td>70234439</td>\n",
       "    </tr>\n",
       "    <tr>\n",
       "      <th>type</th>\n",
       "      <td>object</td>\n",
       "      <td>0</td>\n",
       "      <td>Movie</td>\n",
       "      <td>Movie</td>\n",
       "      <td>TV Show</td>\n",
       "    </tr>\n",
       "    <tr>\n",
       "      <th>title</th>\n",
       "      <td>object</td>\n",
       "      <td>0</td>\n",
       "      <td>Norm of the North: King Sized Adventure</td>\n",
       "      <td>Jandino: Whatever it Takes</td>\n",
       "      <td>Transformers Prime</td>\n",
       "    </tr>\n",
       "    <tr>\n",
       "      <th>director</th>\n",
       "      <td>object</td>\n",
       "      <td>0</td>\n",
       "      <td>Richard Finn, Tim Maltby</td>\n",
       "      <td></td>\n",
       "      <td></td>\n",
       "    </tr>\n",
       "    <tr>\n",
       "      <th>cast</th>\n",
       "      <td>object</td>\n",
       "      <td>0</td>\n",
       "      <td>Alan Marriott, Andrew Toth, Brian Dobson, Cole...</td>\n",
       "      <td>Jandino Asporaat</td>\n",
       "      <td>Peter Cullen, Sumalee Montano, Frank Welker, J...</td>\n",
       "    </tr>\n",
       "    <tr>\n",
       "      <th>country</th>\n",
       "      <td>object</td>\n",
       "      <td>0</td>\n",
       "      <td>United States, India, South Korea, China</td>\n",
       "      <td>United Kingdom</td>\n",
       "      <td>United States</td>\n",
       "    </tr>\n",
       "    <tr>\n",
       "      <th>date_added</th>\n",
       "      <td>datetime64[ns]</td>\n",
       "      <td>0</td>\n",
       "      <td>2019-09-09 00:00:00</td>\n",
       "      <td>2016-09-09 00:00:00</td>\n",
       "      <td>2018-09-08 00:00:00</td>\n",
       "    </tr>\n",
       "    <tr>\n",
       "      <th>release_year</th>\n",
       "      <td>int32</td>\n",
       "      <td>0</td>\n",
       "      <td>2019</td>\n",
       "      <td>2016</td>\n",
       "      <td>2013</td>\n",
       "    </tr>\n",
       "    <tr>\n",
       "      <th>rating</th>\n",
       "      <td>int32</td>\n",
       "      <td>0</td>\n",
       "      <td>41</td>\n",
       "      <td>52</td>\n",
       "      <td>82</td>\n",
       "    </tr>\n",
       "    <tr>\n",
       "      <th>duration</th>\n",
       "      <td>object</td>\n",
       "      <td>0</td>\n",
       "      <td>90 min</td>\n",
       "      <td>94 min</td>\n",
       "      <td>1 Season</td>\n",
       "    </tr>\n",
       "    <tr>\n",
       "      <th>listed_in</th>\n",
       "      <td>object</td>\n",
       "      <td>0</td>\n",
       "      <td>Children &amp; Family Movies, Comedies</td>\n",
       "      <td>Stand-Up Comedy</td>\n",
       "      <td>Kids' TV</td>\n",
       "    </tr>\n",
       "    <tr>\n",
       "      <th>description</th>\n",
       "      <td>object</td>\n",
       "      <td>0</td>\n",
       "      <td>Before planning an awesome wedding for his gra...</td>\n",
       "      <td>Jandino Asporaat riffs on the challenges of ra...</td>\n",
       "      <td>With the help of three human allies, the Autob...</td>\n",
       "    </tr>\n",
       "  </tbody>\n",
       "</table>\n",
       "</div>"
      ],
      "text/plain": [
       "                      dtypes  null_values                                                  0                                                  1                                                  2\n",
       "show_id                int64            0                                           81145628                                           80117401                                           70234439\n",
       "type                  object            0                                              Movie                                              Movie                                            TV Show\n",
       "title                 object            0            Norm of the North: King Sized Adventure                         Jandino: Whatever it Takes                                 Transformers Prime\n",
       "director              object            0                           Richard Finn, Tim Maltby                                                                                                      \n",
       "cast                  object            0  Alan Marriott, Andrew Toth, Brian Dobson, Cole...                                   Jandino Asporaat  Peter Cullen, Sumalee Montano, Frank Welker, J...\n",
       "country               object            0           United States, India, South Korea, China                                     United Kingdom                                      United States\n",
       "date_added    datetime64[ns]            0                                2019-09-09 00:00:00                                2016-09-09 00:00:00                                2018-09-08 00:00:00\n",
       "release_year           int32            0                                               2019                                               2016                                               2013\n",
       "rating                 int32            0                                                 41                                                 52                                                 82\n",
       "duration              object            0                                             90 min                                             94 min                                           1 Season\n",
       "listed_in             object            0                 Children & Family Movies, Comedies                                    Stand-Up Comedy                                           Kids' TV\n",
       "description           object            0  Before planning an awesome wedding for his gra...  Jandino Asporaat riffs on the challenges of ra...  With the help of three human allies, the Autob..."
      ]
     },
     "execution_count": 11,
     "metadata": {},
     "output_type": "execute_result"
    }
   ],
   "source": [
    "pd.concat([\n",
    "    pd.Series(data.dtypes, name='dtypes'), \n",
    "    pd.Series(data.isna().sum(), name='null_values'), \n",
    "    data.head(3).T], \n",
    "    axis=1)\n",
    "# all data null changed"
   ]
  },
  {
   "cell_type": "markdown",
   "metadata": {},
   "source": [
    "### 2.6 - Save to silver layer"
   ]
  },
  {
   "cell_type": "code",
   "execution_count": 406,
   "metadata": {},
   "outputs": [],
   "source": [
    "data.to_parquet(\"../dataset/silver/netflix.parquet\")\n",
    "df_train.to_parquet(\"../dataset/silver/netflix_train.parquet\")\n",
    "df_test.to_parquet(\"../dataset/silver/netflix_test.parquet\")\n"
   ]
  },
  {
   "cell_type": "markdown",
   "metadata": {},
   "source": [
    "## 4.0 - Exploratory Data Analysis"
   ]
  },
  {
   "cell_type": "markdown",
   "metadata": {},
   "source": [
    "> The future engineering will be create with EDA will be doing"
   ]
  },
  {
   "cell_type": "code",
   "execution_count": 439,
   "metadata": {},
   "outputs": [],
   "source": [
    "# extracting data from silver layer\n",
    "dfcln = pd.read_parquet(\"../dataset/silver/netflix.parquet\")\n",
    "df_train = pd.read_parquet(\"../dataset/silver/netflix_train.parquet\")\n",
    "df_test = pd.read_parquet(\"../dataset/silver/netflix_test.parquet\")"
   ]
  },
  {
   "cell_type": "markdown",
   "metadata": {},
   "source": [
    "### 4.0 - Hypothesis "
   ]
  },
  {
   "cell_type": "markdown",
   "metadata": {},
   "source": [
    "> List the possible hypothesis or business statements\n",
    "\n",
    "* The top movies are from The united states\n",
    "* The top Tv Series are from The united states\n",
    "* The top movies are about heroes\n",
    "* The top movies are stories from books\n",
    "* How more recently movie and from the United States it's better\n",
    "* How more awards better the rating\n",
    "\n",
    "> Will be answer on the next cycle"
   ]
  },
  {
   "cell_type": "markdown",
   "metadata": {},
   "source": [
    "#### 4.1 Target"
   ]
  },
  {
   "cell_type": "code",
   "execution_count": 300,
   "metadata": {},
   "outputs": [
    {
     "name": "stderr",
     "output_type": "stream",
     "text": [
      "/home/diegopmayer/Documents/job_interview/eleflow/.venv/lib/python3.9/site-packages/pandas/core/arraylike.py:397: RuntimeWarning: divide by zero encountered in log2\n",
      "  result = getattr(ufunc, method)(*inputs, **kwargs)\n"
     ]
    },
    {
     "data": {
      "image/png": "[encoded data removed]",
      "text/plain": [
       "<Figure size 1296x648 with 5 Axes>"
      ]
     },
     "metadata": {},
     "output_type": "display_data"
    }
   ],
   "source": [
    "grid = plt.GridSpec(3,2)\n",
    "\n",
    "# target distribution\n",
    "subplot(grid[0,0])\n",
    "sns.histplot(dfcln['rating'], kde=True);\n",
    "\n",
    "# Target without zero values\n",
    "subplot(grid[0,1])\n",
    "sns.histplot(dfcln['rating'][dfcln['rating'] > 0], kde=True);\n",
    "\n",
    "# Boxplot to see the outliers\n",
    "subplot(grid[1,0])\n",
    "sns.boxplot(x=dfcln['rating']);\n",
    "\n",
    "# Analysing normalization\n",
    "subplot(grid[2,0])\n",
    "sns.histplot(np.log2(dfcln['rating']), kde=True)\n",
    "\n",
    "# let's use the robust scaller because the outliers\n",
    "subplot(grid[2,1])\n",
    "scaler = RobustScaler()\n",
    "sns.histplot(\n",
    "    scaler.fit_transform(dfcln[dfcln['rating'] > 0][['rating']]\n",
    "    .values), kde=True);"
   ]
  },
  {
   "cell_type": "code",
   "execution_count": 440,
   "metadata": {},
   "outputs": [],
   "source": [
    "dfcln = dfcln[dfcln['rating'] > 0]"
   ]
  },
  {
   "cell_type": "markdown",
   "metadata": {},
   "source": [
    "#### 4.2 Numeric"
   ]
  },
  {
   "cell_type": "code",
   "execution_count": 302,
   "metadata": {},
   "outputs": [
    {
     "data": {
      "image/png": "[encoded data removed]",
      "text/plain": [
       "<Figure size 1296x648 with 4 Axes>"
      ]
     },
     "metadata": {},
     "output_type": "display_data"
    }
   ],
   "source": [
    "dfcln.select_dtypes(exclude=['object']).hist(bins=25);\n",
    "# Let's drop col -> show_id"
   ]
  },
  {
   "cell_type": "code",
   "execution_count": 441,
   "metadata": {},
   "outputs": [],
   "source": [
    "# Drop the show_id and rating = 0 (330 registers)\n",
    "dfcln = dfcln.drop('show_id', axis=1)"
   ]
  },
  {
   "cell_type": "code",
   "execution_count": 304,
   "metadata": {},
   "outputs": [
    {
     "data": {
      "image/png": "[encoded data removed]",
      "text/plain": [
       "<Figure size 1296x648 with 4 Axes>"
      ]
     },
     "metadata": {},
     "output_type": "display_data"
    }
   ],
   "source": [
    "# Slicing and filter for just numbers and date data types\n",
    "num_attributes = dfcln.select_dtypes(exclude='object')\n",
    "\n",
    "grid = GridSpec(2,2)\n",
    "# Plotting heatmap\n",
    "subplot(grid[0,0])\n",
    "sns.heatmap(num_attributes.corr(method='pearson'), annot=True);\n",
    "\n",
    "subplot(grid[0,1])\n",
    "sns.boxplot(x=dfcln['release_year']); \n",
    "\n",
    "subplot(grid[1,0])\n",
    "sns.regplot(data=dfcln, x='release_year', y=\"rating\");\n",
    "\n",
    "# There are a consistently grouwing in a number of rating along years\n",
    "# release_year there aren't a correlation with ratingj"
   ]
  },
  {
   "cell_type": "code",
   "execution_count": 442,
   "metadata": {},
   "outputs": [],
   "source": [
    "dfcln['year_added'] = dfcln['date_added'].dt.year\n",
    "dfcln['month_added'] = dfcln['date_added'].dt.month\n",
    "dfcln['day_added'] = dfcln['date_added'].dt.day\n",
    "\n",
    "# drop old column\n",
    "dfcln = dfcln.drop(['date_added'], axis=1)"
   ]
  },
  {
   "cell_type": "markdown",
   "metadata": {},
   "source": [
    "### 4.3 - Category"
   ]
  },
  {
   "cell_type": "code",
   "execution_count": 411,
   "metadata": {},
   "outputs": [
    {
     "data": {
      "text/html": [
       "<div>\n",
       "<style scoped>\n",
       "    .dataframe tbody tr th:only-of-type {\n",
       "        vertical-align: middle;\n",
       "    }\n",
       "\n",
       "    .dataframe tbody tr th {\n",
       "        vertical-align: top;\n",
       "    }\n",
       "\n",
       "    .dataframe thead th {\n",
       "        text-align: right;\n",
       "    }\n",
       "</style>\n",
       "<table border=\"1\" class=\"dataframe\">\n",
       "  <thead>\n",
       "    <tr style=\"text-align: right;\">\n",
       "      <th></th>\n",
       "      <th>type</th>\n",
       "      <th>title</th>\n",
       "      <th>director</th>\n",
       "      <th>cast</th>\n",
       "      <th>country</th>\n",
       "      <th>release_year</th>\n",
       "      <th>rating</th>\n",
       "      <th>duration</th>\n",
       "      <th>listed_in</th>\n",
       "      <th>description</th>\n",
       "      <th>year_added</th>\n",
       "      <th>month_added</th>\n",
       "      <th>day_added</th>\n",
       "    </tr>\n",
       "  </thead>\n",
       "  <tbody>\n",
       "    <tr>\n",
       "      <th>0</th>\n",
       "      <td>Movie</td>\n",
       "      <td>Norm of the North: King Sized Adventure</td>\n",
       "      <td>Richard Finn, Tim Maltby</td>\n",
       "      <td>Alan Marriott, Andrew Toth, Brian Dobson, Cole...</td>\n",
       "      <td>United States, India, South Korea, China</td>\n",
       "      <td>2019</td>\n",
       "      <td>41</td>\n",
       "      <td>90 min</td>\n",
       "      <td>Children &amp; Family Movies, Comedies</td>\n",
       "      <td>Before planning an awesome wedding for his gra...</td>\n",
       "      <td>2019</td>\n",
       "      <td>9</td>\n",
       "      <td>9</td>\n",
       "    </tr>\n",
       "    <tr>\n",
       "      <th>1</th>\n",
       "      <td>Movie</td>\n",
       "      <td>Jandino: Whatever it Takes</td>\n",
       "      <td></td>\n",
       "      <td>Jandino Asporaat</td>\n",
       "      <td>United Kingdom</td>\n",
       "      <td>2016</td>\n",
       "      <td>52</td>\n",
       "      <td>94 min</td>\n",
       "      <td>Stand-Up Comedy</td>\n",
       "      <td>Jandino Asporaat riffs on the challenges of ra...</td>\n",
       "      <td>2016</td>\n",
       "      <td>9</td>\n",
       "      <td>9</td>\n",
       "    </tr>\n",
       "    <tr>\n",
       "      <th>2</th>\n",
       "      <td>TV Show</td>\n",
       "      <td>Transformers Prime</td>\n",
       "      <td></td>\n",
       "      <td>Peter Cullen, Sumalee Montano, Frank Welker, J...</td>\n",
       "      <td>United States</td>\n",
       "      <td>2013</td>\n",
       "      <td>82</td>\n",
       "      <td>1 Season</td>\n",
       "      <td>Kids' TV</td>\n",
       "      <td>With the help of three human allies, the Autob...</td>\n",
       "      <td>2018</td>\n",
       "      <td>9</td>\n",
       "      <td>8</td>\n",
       "    </tr>\n",
       "  </tbody>\n",
       "</table>\n",
       "</div>"
      ],
      "text/plain": [
       "      type                                    title                  director                                               cast                                   country  release_year  rating  duration                           listed_in                                        description  year_added  month_added  day_added\n",
       "0    Movie  Norm of the North: King Sized Adventure  Richard Finn, Tim Maltby  Alan Marriott, Andrew Toth, Brian Dobson, Cole...  United States, India, South Korea, China          2019      41    90 min  Children & Family Movies, Comedies  Before planning an awesome wedding for his gra...        2019            9          9\n",
       "1    Movie               Jandino: Whatever it Takes                                                             Jandino Asporaat                            United Kingdom          2016      52    94 min                     Stand-Up Comedy  Jandino Asporaat riffs on the challenges of ra...        2016            9          9\n",
       "2  TV Show                       Transformers Prime                            Peter Cullen, Sumalee Montano, Frank Welker, J...                             United States          2013      82  1 Season                            Kids' TV  With the help of three human allies, the Autob...        2018            9          8"
      ]
     },
     "execution_count": 411,
     "metadata": {},
     "output_type": "execute_result"
    }
   ],
   "source": [
    "dfcln.head(3)"
   ]
  },
  {
   "cell_type": "code",
   "execution_count": null,
   "metadata": {},
   "outputs": [],
   "source": [
    "# Slicing and filter for just objects data types\n",
    "cat_attributes = dfcln.select_dtypes(include='object')\n",
    "\n",
    "# For to get name of coluns and calculate cramer_v function \n",
    "list_cat = {}\n",
    "rown = []\n",
    "for col in cat_attributes.columns:\n",
    "    for row in cat_attributes.columns:\n",
    "        rown.append(cramer_v(cat_attributes[col], cat_attributes[row]))\n",
    "        \n",
    "    list_cat[col] = rown\n",
    "    rown = []\n",
    "    \n",
    "# take the output from loop and convert to DataFrame\n",
    "df_cat = pd.DataFrame(list_cat)\n",
    "df_cat = df_cat.set_index(df_cat.columns)"
   ]
  },
  {
   "cell_type": "code",
   "execution_count": 90,
   "metadata": {},
   "outputs": [
    {
     "data": {
      "text/plain": [
       "Text(0.5, 1.0, 'Correlation of all categories variable')"
      ]
     },
     "execution_count": 90,
     "metadata": {},
     "output_type": "execute_result"
    },
    {
     "data": {
      "image/png": "[encoded data removed]",
      "text/plain": [
       "<Figure size 1296x504 with 2 Axes>"
      ]
     },
     "metadata": {},
     "output_type": "display_data"
    }
   ],
   "source": [
    "# plotting heatmap to cross correlation\n",
    "sns.heatmap(df_cat.corr(method='pearson'), annot=True);\n",
    "plt.title(\"Correlation of all categories variable\")\n",
    "\n",
    "# there aren't a strong correlation, but might be not need remove anyone\n",
    "# Obs, Pearson it's not correct method for categories, just to first view"
   ]
  },
  {
   "cell_type": "markdown",
   "metadata": {},
   "source": [
    "column type"
   ]
  },
  {
   "cell_type": "code",
   "execution_count": 309,
   "metadata": {},
   "outputs": [
    {
     "name": "stdout",
     "output_type": "stream",
     "text": [
      "Movie      4085\n",
      "TV Show    1818\n",
      "Name: type, dtype: int64\n"
     ]
    },
    {
     "data": {
      "text/plain": [
       "Text(0.5, 1.0, 'Correlation for rating and type')"
      ]
     },
     "execution_count": 309,
     "metadata": {},
     "output_type": "execute_result"
    },
    {
     "data": {
      "image/png": "[encoded data removed]",
      "text/plain": [
       "<Figure size 1296x648 with 3 Axes>"
      ]
     },
     "metadata": {},
     "output_type": "display_data"
    }
   ],
   "source": [
    "print(dfcln['type'].value_counts())\n",
    "# type - transform to numeric\n",
    "type_num = dfcln['type'].map({'Movie':0, 'TV Show':1})\n",
    "\n",
    "grid = GridSpec(1,2)\n",
    "\n",
    "subplot(grid[0,0])\n",
    "sns.countplot(x=dfcln['type']);\n",
    "plt.title(\"Balanced of\")\n",
    "\n",
    "subplot(grid[0,1])\n",
    "sns.heatmap(\n",
    "    pd.concat([dfcln['rating'], type_num], axis=1)\n",
    "    .corr(method='pearson'), annot=True);\n",
    "plt.title(\"Correlation for rating and type\")\n"
   ]
  },
  {
   "cell_type": "code",
   "execution_count": 443,
   "metadata": {},
   "outputs": [],
   "source": [
    "# engoding the type\n",
    "dfcln['type'] = dfcln['type'].map({'Movie':0, 'TV Show':1})"
   ]
  },
  {
   "cell_type": "markdown",
   "metadata": {},
   "source": [
    "column duration"
   ]
  },
  {
   "cell_type": "code",
   "execution_count": 413,
   "metadata": {},
   "outputs": [
    {
     "data": {
      "text/plain": [
       "0      90 min\n",
       "1      94 min\n",
       "2    1 Season\n",
       "3    1 Season\n",
       "4      99 min\n",
       "Name: duration, dtype: object"
      ]
     },
     "execution_count": 413,
     "metadata": {},
     "output_type": "execute_result"
    }
   ],
   "source": [
    "# duration column\n",
    "dfcln['duration'].head()"
   ]
  },
  {
   "cell_type": "code",
   "execution_count": 444,
   "metadata": {},
   "outputs": [],
   "source": [
    "# removing the string and left only minutes\n",
    "ind_season = dfcln[dfcln['duration'].str.contains('Season')].index\n",
    "dfcln[\"duration\"] = dfcln[\"duration\"].replace(\" Season\", \"\", regex=True)\n",
    "dfcln[\"duration\"] = dfcln[\"duration\"].replace(\" min\", \"\", regex=True)\n",
    "dfcln[\"duration\"] = dfcln[\"duration\"].replace(\"s\", \"\", regex=True)\n",
    "dfcln[\"duration\"] = dfcln[\"duration\"].astype(\"int\")\n",
    "# replace the TV show value for mode from movie\n",
    "dfcln.loc[ind_season, 'duration'] = int(dfcln[dfcln['type'] == 0]['duration'].mode())"
   ]
  },
  {
   "cell_type": "code",
   "execution_count": 313,
   "metadata": {},
   "outputs": [
    {
     "data": {
      "image/png": "[encoded data removed]",
      "text/plain": [
       "<Figure size 360x360 with 1 Axes>"
      ]
     },
     "metadata": {},
     "output_type": "display_data"
    }
   ],
   "source": [
    "sns.displot(x=dfcln['duration'], kde=True);"
   ]
  },
  {
   "cell_type": "code",
   "execution_count": 337,
   "metadata": {},
   "outputs": [],
   "source": [
    "rb = RobustScaler()\n",
    "dfcln['duration'] = rb.fit_transform(dfcln[['duration']].values)"
   ]
  },
  {
   "cell_type": "markdown",
   "metadata": {},
   "source": [
    "country"
   ]
  },
  {
   "cell_type": "code",
   "execution_count": 316,
   "metadata": {},
   "outputs": [
    {
     "name": "stdout",
     "output_type": "stream",
     "text": [
      "(547,)\n"
     ]
    },
    {
     "data": {
      "image/png": "[encoded data removed]",
      "text/plain": [
       "<Figure size 1296x648 with 1 Axes>"
      ]
     },
     "metadata": {},
     "output_type": "display_data"
    }
   ],
   "source": [
    "print(dfcln['country'].value_counts().shape)\n",
    "sns.countplot(x=dfcln['country'].value_counts());\n",
    "# for the first cycle I will just crate dummies with frequency > 5\n",
    "# next cycle, it'll be cleaned and dimentionality reduction"
   ]
  },
  {
   "cell_type": "code",
   "execution_count": 338,
   "metadata": {},
   "outputs": [],
   "source": [
    "df_dum = pd.get_dummies(dfcln['country'])\n",
    "df_dum_red = pd.DataFrame()\n",
    "for col in df_dum:\n",
    "    if df_dum[col].sum() > 5:\n",
    "        df_dum_red[col] = df_dum[col]\n",
    "\n",
    "dfcln = pd.concat([dfcln, df_dum_red], axis=1)\n",
    "\n",
    "# removing old columns\n",
    "dfcln = dfcln.drop(['country'], axis=1)"
   ]
  },
  {
   "cell_type": "markdown",
   "metadata": {},
   "source": [
    "texts columns"
   ]
  },
  {
   "cell_type": "code",
   "execution_count": 341,
   "metadata": {},
   "outputs": [
    {
     "name": "stdout",
     "output_type": "stream",
     "text": [
      "(5841,)\n",
      "(3205,)\n",
      "(5236,)\n",
      "(455,)\n",
      "(5902,)\n"
     ]
    }
   ],
   "source": [
    "print(dfcln['title'].value_counts().shape)\n",
    "print(dfcln['director'].value_counts().shape)\n",
    "print(dfcln['cast'].value_counts().shape)\n",
    "print(dfcln['listed_in'].value_counts().shape)\n",
    "print(dfcln['description'].value_counts().shape)\n",
    "# There are a lot of differents, and it's necessary do a text analysis\n",
    "# I left this for the next cycle\n"
   ]
  },
  {
   "cell_type": "code",
   "execution_count": 342,
   "metadata": {},
   "outputs": [],
   "source": [
    "dfcln = dfcln.drop([\n",
    "    'title', \n",
    "    'director', \n",
    "    'cast', \n",
    "    'listed_in', \n",
    "    'description'\n",
    "    ], axis=1)"
   ]
  },
  {
   "cell_type": "code",
   "execution_count": 495,
   "metadata": {},
   "outputs": [],
   "source": [
    "col_list = list()\n",
    "for col in df_train.columns.to_list():\n",
    "    col_list.append(col.replace(' ', '_').replace(',', ''))\n",
    "\n",
    "df_train.columns = col_list"
   ]
  },
  {
   "cell_type": "markdown",
   "metadata": {},
   "source": [
    "## 6.0 - Modeling "
   ]
  },
  {
   "cell_type": "code",
   "execution_count": 499,
   "metadata": {},
   "outputs": [],
   "source": [
    "# ETL from Function created\n",
    "# Data for train\n",
    "df_train = pd.read_parquet(\"../dataset/silver/netflix_train.parquet\")\n",
    "df_train = data_cleaning(df_train)\n",
    "df_train = feature_eng(df_train)\n",
    "df_train = data_transformation(df_train)\n",
    "\n",
    "x_train = df_train.drop([\"rating\"], axis=1)\n",
    "y_train = df_train['rating']"
   ]
  },
  {
   "cell_type": "code",
   "execution_count": 500,
   "metadata": {},
   "outputs": [],
   "source": [
    "# Data for test\n",
    "df_test = pd.read_parquet(\"../dataset/silver/netflix_test.parquet\")\n",
    "df_test = data_cleaning(df_test)\n",
    "df_test = feature_eng(df_test)\n",
    "df_test = data_transformation(df_test)\n",
    "\n",
    "x_test = df_test.drop(['rating'], axis=1)\n",
    "y_test = df_test['rating']"
   ]
  },
  {
   "cell_type": "code",
   "execution_count": 513,
   "metadata": {},
   "outputs": [
    {
     "data": {
      "text/plain": [
       "((5020, 62), (5020, 61), (5020,), (883, 25), (883, 24), (883,))"
      ]
     },
     "execution_count": 513,
     "metadata": {},
     "output_type": "execute_result"
    }
   ],
   "source": [
    "(df_train.shape, x_train.shape, y_train.shape,\n",
    "    df_test.shape, x_test.shape, y_test.shape)\n",
    "\n",
    "# I had a problem with train and test, because there are different\n",
    "# dimentionality, for this cycle, I'll split together."
   ]
  },
  {
   "cell_type": "code",
   "execution_count": 516,
   "metadata": {},
   "outputs": [],
   "source": [
    "data = pd.read_excel(\"../dataset/bronze/dataset_netflix.xlsx\")\n",
    "data = data_cleaning(data)\n",
    "data = feature_eng(data)\n",
    "data = data_transformation(data)\n",
    "\n",
    "x_train, x_test, y_train, y_test = train_test_split(\n",
    "    data.drop(['rating'], axis=1), data['rating'], test_size=20, random_state=42)"
   ]
  },
  {
   "cell_type": "markdown",
   "metadata": {},
   "source": [
    "### 6.1 - Baseline"
   ]
  },
  {
   "cell_type": "markdown",
   "metadata": {},
   "source": [
    "### 6.2 - Models"
   ]
  },
  {
   "cell_type": "code",
   "execution_count": 501,
   "metadata": {},
   "outputs": [],
   "source": []
  },
  {
   "cell_type": "code",
   "execution_count": 521,
   "metadata": {},
   "outputs": [],
   "source": [
    "models = {\n",
    "    'Lasso': linear_model.Lasso(random_state=1),\n",
    "    'SVM': svm.SVR(),\n",
    "    'Linear Regression':linear_model.LinearRegression(),\n",
    "    'Random Forest Regressor': RandomForestRegressor(random_state=1),\n",
    "}"
   ]
  },
  {
   "cell_type": "code",
   "execution_count": 523,
   "metadata": {},
   "outputs": [],
   "source": [
    "results = {}\n",
    "for im in models:\n",
    "    model = models[im]\n",
    "    model = model.fit(x_train, y_train)\n",
    "    predictions = model.predict(x_test)\n",
    "    results[im] = round(mean_absolute_error(y_test, predictions),2)"
   ]
  },
  {
   "cell_type": "code",
   "execution_count": 524,
   "metadata": {},
   "outputs": [
    {
     "data": {
      "text/html": [
       "<div>\n",
       "<style scoped>\n",
       "    .dataframe tbody tr th:only-of-type {\n",
       "        vertical-align: middle;\n",
       "    }\n",
       "\n",
       "    .dataframe tbody tr th {\n",
       "        vertical-align: top;\n",
       "    }\n",
       "\n",
       "    .dataframe thead th {\n",
       "        text-align: right;\n",
       "    }\n",
       "</style>\n",
       "<table border=\"1\" class=\"dataframe\">\n",
       "  <thead>\n",
       "    <tr style=\"text-align: right;\">\n",
       "      <th></th>\n",
       "      <th>Model</th>\n",
       "      <th>MAE</th>\n",
       "    </tr>\n",
       "  </thead>\n",
       "  <tbody>\n",
       "    <tr>\n",
       "      <th>0</th>\n",
       "      <td>Lasso</td>\n",
       "      <td>9.38</td>\n",
       "    </tr>\n",
       "    <tr>\n",
       "      <th>2</th>\n",
       "      <td>Linear Regression</td>\n",
       "      <td>9.59</td>\n",
       "    </tr>\n",
       "    <tr>\n",
       "      <th>1</th>\n",
       "      <td>SVM</td>\n",
       "      <td>10.30</td>\n",
       "    </tr>\n",
       "    <tr>\n",
       "      <th>3</th>\n",
       "      <td>Random Forest Regressor</td>\n",
       "      <td>10.64</td>\n",
       "    </tr>\n",
       "  </tbody>\n",
       "</table>\n",
       "</div>"
      ],
      "text/plain": [
       "                     Model    MAE\n",
       "0                    Lasso   9.38\n",
       "2        Linear Regression   9.59\n",
       "1                      SVM  10.30\n",
       "3  Random Forest Regressor  10.64"
      ]
     },
     "execution_count": 524,
     "metadata": {},
     "output_type": "execute_result"
    }
   ],
   "source": [
    "pd.DataFrame(results.items(), columns=['Model', 'MAE']).sort_values(by=\"MAE\")"
   ]
  },
  {
   "cell_type": "markdown",
   "metadata": {},
   "source": [
    "### 6.3 - Cross Validation"
   ]
  },
  {
   "cell_type": "markdown",
   "metadata": {},
   "source": [
    "### 6.4 - Hyperparameters Fine Tuning"
   ]
  },
  {
   "cell_type": "markdown",
   "metadata": {},
   "source": [
    "### 6.5 - Final Model"
   ]
  },
  {
   "cell_type": "markdown",
   "metadata": {},
   "source": [
    "### 6.6 - Business Performance"
   ]
  },
  {
   "cell_type": "markdown",
   "metadata": {},
   "source": [
    "## 7.0 - Patterns for production"
   ]
  },
  {
   "cell_type": "code",
   "execution_count": 469,
   "metadata": {},
   "outputs": [],
   "source": [
    "def data_cleaning(data):\n",
    "\n",
    "\t# delete and replace all nullable values\n",
    "\tdata = data[data['rating'].notnull()]\n",
    "\tdata = data.dropna(how='all') # delet the line if all line null\n",
    "\tdata['date_added'] = data['date_added'].fillna('1970-01-01')\n",
    "\tdata['release_year'] = data['release_year'].fillna(0)\n",
    "\tdata['rating'] = data['rating'].fillna(0)\n",
    "\tdata['duration'].fillna(0)\n",
    "\tdata = data.fillna('')\n",
    "\t\n",
    "\t\n",
    "\t# string cleaning\n",
    "\t# removing the string and left only minutes\n",
    "\tind_season = data[data['duration'].str.contains('Season')].index\n",
    "\tdata[\"duration\"] = data[\"duration\"].replace(\" Season\", \"\", regex=True)\n",
    "\tdata[\"duration\"] = data[\"duration\"].replace(\" min\", \"\", regex=True)\n",
    "\tdata[\"duration\"] = data[\"duration\"].replace(\"s\", \"\", regex=True)\n",
    "\tdata[\"duration\"] = data[\"duration\"].astype(\"int\")\n",
    "\t# replace the TV show value for mode from movie\n",
    "\tdata.loc[ind_season, 'duration'] = 51 # mean time of episodes\n",
    "\t\n",
    "\t# change dtype for simply, less memory and better performance\n",
    "\tdata['date_added'] = pd.to_datetime(data['date_added'])\n",
    "\tdata['release_year'] = data['release_year'].astype('int32')\n",
    "\tdata['rating'] = data['rating'].astype('int32')\n",
    "\tdf_cleaned = data\n",
    "\t\n",
    "\treturn df_cleaned\n",
    "\n",
    "\t\n",
    "def feature_eng(df_cleaned):\n",
    "\tdf_cleaned['type'] = df_cleaned['type'].map({'Movie':0, 'TV Show':1})\n",
    "\tdf_cleaned['year_added'] = df_cleaned['date_added'].dt.year\n",
    "\tdf_cleaned['month_added'] = df_cleaned['date_added'].dt.month\n",
    "\tdf_cleaned['day_added'] = df_cleaned['date_added'].dt.day\n",
    "\n",
    "\t\t# drop columns\n",
    "\tdf_cleaned = df_cleaned.drop([\n",
    "\t\t'show_id',\n",
    "\t\t'title', \n",
    "\t\t'director', \n",
    "\t\t'cast', \n",
    "\t\t'listed_in', \n",
    "\t\t'description'\n",
    "\t], axis=1)\n",
    "\t\n",
    "\t# filter values\n",
    "\tdf_cleaned = df_cleaned[df_cleaned['rating'] > 0]\n",
    "\tdf_eng = df_cleaned.drop(['date_added'], axis=1)\n",
    "\n",
    "\treturn df_eng\n",
    "\n",
    "\n",
    "def data_transformation(df_eng):\n",
    "\t\n",
    "\t# duration\n",
    "\trs = RobustScaler()\n",
    "\tdf_eng['duration'] = rs.fit_transform(df_eng[['duration']].values)\n",
    "\t\n",
    "\t# country\n",
    "\tdf_dum = pd.get_dummies(df_eng['country'])\n",
    "\tdf_dum_red = pd.DataFrame()\n",
    "\tfor col in df_dum:\n",
    "\t\tif df_dum[col].sum() > 5:\n",
    "\t\t\tdf_dum_red[col] = df_dum[col]\n",
    "\tdf_eng = pd.concat([df_eng, df_dum_red], axis=1)\n",
    "\tdf_eng = df_eng.drop(['country'], axis=1)\n",
    "\n",
    "\t# renaming columns\n",
    "\tcol_list = list()\n",
    "\tfor col in df_eng.columns.to_list():\n",
    "\t\tcol_list.append(col.replace(' ', '_').replace(',', ''))\n",
    "\tdf_eng.columns = col_list\n",
    "\n",
    "\tdf_transf = df_eng\n",
    "\t\n",
    "\treturn df_transf"
   ]
  },
  {
   "cell_type": "markdown",
   "metadata": {},
   "source": [
    "## 8.0 - Next steps to improve the solution"
   ]
  },
  {
   "cell_type": "markdown",
   "metadata": {},
   "source": [
    "* Create a solution to analyse the text \"sentiment analysis\" or others.\n",
    "* better feature engineering with more calculus.\n",
    "* Cross Validation and fine tunning.\n",
    "* Identify the principal actor on all cast column\n",
    "* Collect the data for imdb rating\n",
    "* Collect the data for design production and effects\n",
    "* Collect the data for the company that film the movie production\n",
    "* Collect the data for user (click, views, watched, etc)"
   ]
  }
 ],
 "metadata": {
  "interpreter": {
   "hash": "916dbcbb3f70747c44a77c7bcd40155683ae19c65e1c03b4aa3499c5328201f1"
  },
  "kernelspec": {
   "display_name": "Python 3.9.7 64-bit",
   "language": "python",
   "name": "python3"
  },
  "language_info": {
   "codemirror_mode": {
    "name": "ipython",
    "version": 3
   },
   "file_extension": ".py",
   "mimetype": "text/x-python",
   "name": "python",
   "nbconvert_exporter": "python",
   "pygments_lexer": "ipython3",
   "version": "3.9.7"
  },
  "orig_nbformat": 4
 },
 "nbformat": 4,
 "nbformat_minor": 2
}
