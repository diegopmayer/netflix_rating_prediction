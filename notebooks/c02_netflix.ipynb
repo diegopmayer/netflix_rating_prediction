{
 "cells": [
  {
   "cell_type": "markdown",
   "metadata": {},
   "source": [
    "# NetFlix Rating Prediction"
   ]
  },
  {
   "cell_type": "markdown",
   "metadata": {},
   "source": [
    "For more information about the project structure and description see the github repository <b><a href=\"https://github.com/diegopmayer/netflix_rating_prediction\">click here</a>"
   ]
  },
  {
   "cell_type": "markdown",
   "metadata": {},
   "source": [
    "## 1.0 - Importing"
   ]
  },
  {
   "cell_type": "markdown",
   "metadata": {},
   "source": [
    "### 1.1 - Libraries"
   ]
  },
  {
   "cell_type": "code",
   "execution_count": 261,
   "metadata": {},
   "outputs": [],
   "source": [
    "import pandas as pd\n",
    "import numpy as np\n",
    "import scipy.stats as ss\n",
    "import requests\n",
    "from pandas_profiling import ProfileReport\n",
    "\n",
    "import seaborn as sns\n",
    "import matplotlib.pyplot as plt\n",
    "\n",
    "from IPython.core.display  import HTML\n",
    "from IPython.display       import Image\n",
    "\n",
    "# transformation\n",
    "from sklearn.preprocessing import RobustScaler, PowerTransformer\n",
    "from fast_ml.model_development import  train_valid_test_split\n",
    "\n",
    "# models\n",
    "from sklearn.ensemble import RandomForestRegressor\n",
    "from sklearn import linear_model\n",
    "from sklearn import svm\n",
    "from sklearn.linear_model import Lasso, LinearRegression\n",
    "from sklearn import neighbors\n",
    "from sklearn import tree\n",
    "from sklearn.ensemble import GradientBoostingRegressor, RandomForestRegressor\n",
    "from sklearn import svm\n",
    "from catboost import CatBoostRegressor\n",
    "\n",
    "# metrics\n",
    "from sklearn.model_selection import KFold, cross_val_score, StratifiedKFold\n",
    "from sklearn.metrics import mean_absolute_error"
   ]
  },
  {
   "cell_type": "markdown",
   "metadata": {},
   "source": [
    "### 1.2 - Helper Functions"
   ]
  },
  {
   "cell_type": "code",
   "execution_count": 406,
   "metadata": {},
   "outputs": [
    {
     "data": {
      "text/html": [
       "<style>.container{width:90% !important; }</style>"
      ],
      "text/plain": [
       "<IPython.core.display.HTML object>"
      ]
     },
     "metadata": {},
     "output_type": "display_data"
    }
   ],
   "source": [
    "def jupyter_settings():\n",
    "    %matplotlib inline\n",
    "    \n",
    "    plt.style.use('bmh')\n",
    "    plt.rcParams['figure.figsize'] = [18,9]\n",
    "    plt.rcParams['font.size'] = 24\n",
    "    \n",
    "    display( HTML('<style>.container{width:90% !important; }</style>'))\n",
    "    pd.options.display.max_columns = None\n",
    "    pd.options.display.max_rows = None\n",
    "    pd.set_option('display.expand_frame_repr', False)\n",
    "    \n",
    "    sns.set()\n",
    "jupyter_settings()  \n",
    "\n",
    "def cramer_v(x, y):\n",
    "\n",
    "    # cm is Confusion Matrix\n",
    "    cm = pd.crosstab(x, y).values\n",
    "    chi2 = ss.chi2_contingency(cm)[0]\n",
    "    n = cm.sum()\n",
    "    r, k = cm.shape\n",
    "    \n",
    "    return np.sqrt((chi2/n) / min(k-1, r-1))\n",
    "\n",
    "\n",
    "def data_cleaning(data):\n",
    "\n",
    "\t# delete and replace all nullable values\n",
    "\tdata = data[data['rating'].notnull()]\n",
    "\tdata = data.dropna(how='all') # delet the line if all line null\n",
    "\tdata['date_added'] = data['date_added'].fillna('1970-01-01')\n",
    "\tdata['release_year'] = data['release_year'].fillna(0)\n",
    "\tdata['rating'] = data['rating'].fillna(0)\n",
    "\tdata['duration'].fillna(0)\n",
    "\tdata = data.fillna('')\n",
    "\t\n",
    "\t\n",
    "\t# string cleaning\n",
    "\t# removing the string and left only minutes\n",
    "\tdata[\"duration\"] =  [int(\n",
    "\t\tx.split()[0]) for x in data['duration'].fillna('0')]\n",
    "\t# replacing the tv show mean for mean of statinvestor data\n",
    "\tind_tv = data['duration'][data['type'] == 'TV Show'].index\n",
    "\tdata.loc[ind_tv, 'duration'] = 45\n",
    "\t\n",
    "\t\n",
    "\t# change dtype for simply, less memory and better performance\n",
    "\tdata['date_added'] = pd.to_datetime(data['date_added'])\n",
    "\tdata['release_year'] = data['release_year'].astype('int32')\n",
    "\tdata['rating'] = data['rating'].astype('int32')\n",
    "\tdf_cleaned = data\n",
    "\t\n",
    "\treturn df_cleaned\n",
    "\n",
    "\t\n",
    "def feature_eng(data):\n",
    "\tdata['type'] = data['type'].map({'Movie':0, 'TV Show':1})\n",
    "\tdata['year_added'] = data['date_added'].dt.year\n",
    "\tdata['month_added'] = data['date_added'].dt.month\n",
    "\tdata['day_added'] = data['date_added'].dt.day\n",
    "\n",
    "\n",
    "\t# title\n",
    "\t# split with ':'  and put in other column\n",
    "\t#data['title_a'] = data['title'].apply(lambda x: x.split(':')[0])\n",
    "\n",
    "\t# director\n",
    "\t# split names with coma ','\n",
    "\t#data['director_a'] = data['director'].apply(lambda x: x.split(',')[0])\n",
    "\n",
    "\t# cast\n",
    "\t# split names with coma ',' getting the first cast\n",
    "\t#data['cast_a'] = data['cast'].apply(lambda x: x.split(',')[0])\n",
    "\n",
    "\t# listed in\n",
    "\t# split names with coma ',' getting the first listed in\n",
    "\t#data['listed_in_a'] = data['listed_in'].apply(lambda x: x.split(',')[0])\n",
    "\n",
    "\n",
    "\t\t# drop columns\n",
    "\tdata = data.drop([\n",
    "\t\t'show_id',\n",
    "\t\t'title', \n",
    "\t\t'director', \n",
    "\t\t'cast', \n",
    "\t\t'listed_in', \n",
    "\t\t'description'\n",
    "\t], axis=1)\n",
    "\t\n",
    "\t# filter values\n",
    "\tdata = data[data['rating'] > 0]\n",
    "\tdf_eng = data.drop(['date_added'], axis=1)\n",
    "\n",
    "\treturn df_eng\n",
    "\n",
    "\n",
    "\n",
    "def data_transformation(data):\n",
    "\t\n",
    "\t# tranforming title_a in one hot encode\n",
    "\t#title_dum = pd.get_dummies(data['cast_a'], prefix='cast')\n",
    "\t#df_dum = pd.DataFrame()\n",
    "\t#for col in title_dum:\n",
    "\t#\tif title_dum[col].sum() >=3:\n",
    "\t#\t\tdf_dum[col] = title_dum[col]\n",
    "\t#data = pd.concat([data, df_dum], axis=1)\n",
    "\t#data = data.drop(['cast_a'], axis=1)\n",
    "\n",
    "\t# duration (poisson)\n",
    "\tpt = PowerTransformer(method='box-cox')\n",
    "\tpt.fit(data[['duration']]).lambdas_\n",
    "\tdata['duration'] = pt.transform(data[['duration']])\n",
    "\n",
    "\t# country\n",
    "\tdf_dum = pd.get_dummies(data['country'])\n",
    "\tdf_dum_red = pd.DataFrame()\n",
    "\tfor col in df_dum:\n",
    "\t\tif df_dum[col].sum() > 5:\n",
    "\t\t\tdf_dum_red[col] = df_dum[col]\n",
    "\tdata = pd.concat([data, df_dum_red], axis=1)\n",
    "\tdata = data.drop(['country'], axis=1)\n",
    "\n",
    "\t# renaming columns\n",
    "\tcol_list = list()\n",
    "\tfor col in data.columns.to_list():\n",
    "\t\tcol_list.append(col.replace(' ', '_').replace(',', ''))\n",
    "\tdata.columns = col_list\n",
    "\n",
    "\tdf_transf = data\n",
    "\n",
    "\treturn df_transf"
   ]
  },
  {
   "cell_type": "markdown",
   "metadata": {},
   "source": [
    "### 1.3 - Extracting Data"
   ]
  },
  {
   "cell_type": "code",
   "execution_count": 272,
   "metadata": {},
   "outputs": [],
   "source": [
    "data = pd.read_excel(\"../dataset/bronze/dataset_netflix.xlsx\")"
   ]
  },
  {
   "cell_type": "markdown",
   "metadata": {},
   "source": [
    "### 1.4 - Splitting Data"
   ]
  },
  {
   "cell_type": "code",
   "execution_count": 273,
   "metadata": {},
   "outputs": [
    {
     "data": {
      "text/plain": [
       "((4987, 11), (4987,), (623, 11), (623,), (624, 11), (624,))"
      ]
     },
     "execution_count": 273,
     "metadata": {},
     "output_type": "execute_result"
    }
   ],
   "source": [
    "\n",
    "#  Let' split the train and test because of data leakage\n",
    "x_train, y_train, x_valid, y_valid, x_test, y_test = train_valid_test_split(\n",
    "    data, target='rating', train_size=0.8, valid_size=0.1, test_size=0.1\n",
    ")\n",
    "\n",
    "# shape check\n",
    "x_train.shape, y_train.shape, x_valid.shape, y_valid.shape, x_test.shape, y_test.shape"
   ]
  },
  {
   "cell_type": "markdown",
   "metadata": {},
   "source": [
    "### 1.5 - Save to silver layer"
   ]
  },
  {
   "cell_type": "code",
   "execution_count": 274,
   "metadata": {},
   "outputs": [],
   "source": [
    "# Concatenating the x and y train and valid\n",
    "df_train = pd.concat([x_train, y_train], axis=1)\n",
    "df_valid = pd.concat([x_valid, y_valid], axis=1)\n",
    "df_test = pd.concat([x_test, y_test], axis=1)\n",
    "\n",
    "# saving data to silver layer with parquet format\n",
    "df_train.to_parquet(\"../dataset/silver/netflix_train.parquet\")\n",
    "df_valid.to_parquet(\"../dataset/silver/netflix_valid.parquet\")\n",
    "df_test.to_parquet(\"../dataset/silver/netflix_test.parquet\")"
   ]
  },
  {
   "cell_type": "markdown",
   "metadata": {},
   "source": [
    "## 2.0 - Data Cleaning"
   ]
  },
  {
   "cell_type": "markdown",
   "metadata": {},
   "source": [
    "### 2.2 - Descriptive Statistical"
   ]
  },
  {
   "cell_type": "code",
   "execution_count": 275,
   "metadata": {},
   "outputs": [
    {
     "data": {
      "text/html": [
       "<div>\n",
       "<style scoped>\n",
       "    .dataframe tbody tr th:only-of-type {\n",
       "        vertical-align: middle;\n",
       "    }\n",
       "\n",
       "    .dataframe tbody tr th {\n",
       "        vertical-align: top;\n",
       "    }\n",
       "\n",
       "    .dataframe thead th {\n",
       "        text-align: right;\n",
       "    }\n",
       "</style>\n",
       "<table border=\"1\" class=\"dataframe\">\n",
       "  <thead>\n",
       "    <tr style=\"text-align: right;\">\n",
       "      <th></th>\n",
       "      <th>count</th>\n",
       "      <th>mean</th>\n",
       "      <th>std</th>\n",
       "      <th>min</th>\n",
       "      <th>25%</th>\n",
       "      <th>50%</th>\n",
       "      <th>75%</th>\n",
       "      <th>max</th>\n",
       "      <th>kurtosis</th>\n",
       "      <th>skew</th>\n",
       "    </tr>\n",
       "  </thead>\n",
       "  <tbody>\n",
       "    <tr>\n",
       "      <th>show_id</th>\n",
       "      <td>6234.0</td>\n",
       "      <td>76703679.0</td>\n",
       "      <td>10942965.0</td>\n",
       "      <td>247747.0</td>\n",
       "      <td>80035802.0</td>\n",
       "      <td>80163367.0</td>\n",
       "      <td>80244889.0</td>\n",
       "      <td>81235729.0</td>\n",
       "      <td>30.0</td>\n",
       "      <td>-5.0</td>\n",
       "    </tr>\n",
       "    <tr>\n",
       "      <th>release_year</th>\n",
       "      <td>6233.0</td>\n",
       "      <td>2013.0</td>\n",
       "      <td>9.0</td>\n",
       "      <td>1925.0</td>\n",
       "      <td>2013.0</td>\n",
       "      <td>2016.0</td>\n",
       "      <td>2018.0</td>\n",
       "      <td>2020.0</td>\n",
       "      <td>18.0</td>\n",
       "      <td>-4.0</td>\n",
       "    </tr>\n",
       "    <tr>\n",
       "      <th>rating</th>\n",
       "      <td>6233.0</td>\n",
       "      <td>64.0</td>\n",
       "      <td>19.0</td>\n",
       "      <td>0.0</td>\n",
       "      <td>59.0</td>\n",
       "      <td>68.0</td>\n",
       "      <td>76.0</td>\n",
       "      <td>97.0</td>\n",
       "      <td>4.0</td>\n",
       "      <td>-2.0</td>\n",
       "    </tr>\n",
       "  </tbody>\n",
       "</table>\n",
       "</div>"
      ],
      "text/plain": [
       "               count        mean         std       min         25%         50%         75%         max  kurtosis  skew\n",
       "show_id       6234.0  76703679.0  10942965.0  247747.0  80035802.0  80163367.0  80244889.0  81235729.0      30.0  -5.0\n",
       "release_year  6233.0      2013.0         9.0    1925.0      2013.0      2016.0      2018.0      2020.0      18.0  -4.0\n",
       "rating        6233.0        64.0        19.0       0.0        59.0        68.0        76.0        97.0       4.0  -2.0"
      ]
     },
     "execution_count": 275,
     "metadata": {},
     "output_type": "execute_result"
    }
   ],
   "source": [
    "# Numerical describe\n",
    "num_data = (\n",
    "    data.select_dtypes(\n",
    "    include=['int64', 'int32', 'float64', 'float32']))\n",
    "num_describe = (pd.concat([\n",
    "    num_data.describe().T,\n",
    "    pd.Series(num_data.kurtosis(), name='kurtosis'),\n",
    "    pd.Series(num_data.skew(), name='skew')\n",
    "    ], axis=1).round())\n",
    "num_describe\n",
    "\n",
    "# The Frequency is a peak and a little negative skew."
   ]
  },
  {
   "cell_type": "code",
   "execution_count": 276,
   "metadata": {},
   "outputs": [
    {
     "data": {
      "text/html": [
       "<div>\n",
       "<style scoped>\n",
       "    .dataframe tbody tr th:only-of-type {\n",
       "        vertical-align: middle;\n",
       "    }\n",
       "\n",
       "    .dataframe tbody tr th {\n",
       "        vertical-align: top;\n",
       "    }\n",
       "\n",
       "    .dataframe thead th {\n",
       "        text-align: right;\n",
       "    }\n",
       "</style>\n",
       "<table border=\"1\" class=\"dataframe\">\n",
       "  <thead>\n",
       "    <tr style=\"text-align: right;\">\n",
       "      <th></th>\n",
       "      <th>count</th>\n",
       "      <th>unique</th>\n",
       "      <th>top</th>\n",
       "      <th>freq</th>\n",
       "    </tr>\n",
       "  </thead>\n",
       "  <tbody>\n",
       "    <tr>\n",
       "      <th>type</th>\n",
       "      <td>6234</td>\n",
       "      <td>2</td>\n",
       "      <td>Movie</td>\n",
       "      <td>4265</td>\n",
       "    </tr>\n",
       "    <tr>\n",
       "      <th>title</th>\n",
       "      <td>6234</td>\n",
       "      <td>6172</td>\n",
       "      <td>The Silence</td>\n",
       "      <td>3</td>\n",
       "    </tr>\n",
       "    <tr>\n",
       "      <th>director</th>\n",
       "      <td>4264</td>\n",
       "      <td>3300</td>\n",
       "      <td>Raúl Campos, Jan Suter</td>\n",
       "      <td>18</td>\n",
       "    </tr>\n",
       "    <tr>\n",
       "      <th>cast</th>\n",
       "      <td>6233</td>\n",
       "      <td>5470</td>\n",
       "      <td>bam</td>\n",
       "      <td>569</td>\n",
       "    </tr>\n",
       "    <tr>\n",
       "      <th>country</th>\n",
       "      <td>6233</td>\n",
       "      <td>555</td>\n",
       "      <td>United States</td>\n",
       "      <td>2031</td>\n",
       "    </tr>\n",
       "    <tr>\n",
       "      <th>duration</th>\n",
       "      <td>6233</td>\n",
       "      <td>201</td>\n",
       "      <td>1 Season</td>\n",
       "      <td>1321</td>\n",
       "    </tr>\n",
       "    <tr>\n",
       "      <th>listed_in</th>\n",
       "      <td>6233</td>\n",
       "      <td>461</td>\n",
       "      <td>Documentaries</td>\n",
       "      <td>299</td>\n",
       "    </tr>\n",
       "    <tr>\n",
       "      <th>description</th>\n",
       "      <td>6233</td>\n",
       "      <td>6225</td>\n",
       "      <td>A surly septuagenarian gets another chance at ...</td>\n",
       "      <td>3</td>\n",
       "    </tr>\n",
       "  </tbody>\n",
       "</table>\n",
       "</div>"
      ],
      "text/plain": [
       "            count unique                                                top  freq\n",
       "type         6234      2                                              Movie  4265\n",
       "title        6234   6172                                        The Silence     3\n",
       "director     4264   3300                             Raúl Campos, Jan Suter    18\n",
       "cast         6233   5470                                                bam   569\n",
       "country      6233    555                                      United States  2031\n",
       "duration     6233    201                                           1 Season  1321\n",
       "listed_in    6233    461                                      Documentaries   299\n",
       "description  6233   6225  A surly septuagenarian gets another chance at ...     3"
      ]
     },
     "execution_count": 276,
     "metadata": {},
     "output_type": "execute_result"
    }
   ],
   "source": [
    "# Categorical\n",
    "data.select_dtypes(\n",
    "include=['object', 'string']).describe().T\n",
    "# The top more watched was movie from the United States \"before cleaning\""
   ]
  },
  {
   "cell_type": "code",
   "execution_count": 277,
   "metadata": {},
   "outputs": [
    {
     "data": {
      "text/html": [
       "<div>\n",
       "<style scoped>\n",
       "    .dataframe tbody tr th:only-of-type {\n",
       "        vertical-align: middle;\n",
       "    }\n",
       "\n",
       "    .dataframe tbody tr th {\n",
       "        vertical-align: top;\n",
       "    }\n",
       "\n",
       "    .dataframe thead th {\n",
       "        text-align: right;\n",
       "    }\n",
       "</style>\n",
       "<table border=\"1\" class=\"dataframe\">\n",
       "  <thead>\n",
       "    <tr style=\"text-align: right;\">\n",
       "      <th></th>\n",
       "      <th>count</th>\n",
       "      <th>mean</th>\n",
       "      <th>min</th>\n",
       "      <th>25%</th>\n",
       "      <th>50%</th>\n",
       "      <th>75%</th>\n",
       "      <th>max</th>\n",
       "    </tr>\n",
       "  </thead>\n",
       "  <tbody>\n",
       "    <tr>\n",
       "      <th>date_added</th>\n",
       "      <td>6222</td>\n",
       "      <td>2018-07-01 17:22:37.377049088</td>\n",
       "      <td>2008-01-01</td>\n",
       "      <td>2017-10-01</td>\n",
       "      <td>2018-09-30</td>\n",
       "      <td>2019-06-08</td>\n",
       "      <td>2020-01-18</td>\n",
       "    </tr>\n",
       "  </tbody>\n",
       "</table>\n",
       "</div>"
      ],
      "text/plain": [
       "           count                          mean        min        25%        50%        75%        max\n",
       "date_added  6222 2018-07-01 17:22:37.377049088 2008-01-01 2017-10-01 2018-09-30 2019-06-08 2020-01-18"
      ]
     },
     "execution_count": 277,
     "metadata": {},
     "output_type": "execute_result"
    }
   ],
   "source": [
    "# Date describe\n",
    "data.describe(include=['datetime'], datetime_is_numeric=True).T"
   ]
  },
  {
   "cell_type": "markdown",
   "metadata": {},
   "source": [
    "### 2.4 - Data Types and Nullable values"
   ]
  },
  {
   "cell_type": "code",
   "execution_count": 278,
   "metadata": {},
   "outputs": [
    {
     "data": {
      "text/html": [
       "<div>\n",
       "<style scoped>\n",
       "    .dataframe tbody tr th:only-of-type {\n",
       "        vertical-align: middle;\n",
       "    }\n",
       "\n",
       "    .dataframe tbody tr th {\n",
       "        vertical-align: top;\n",
       "    }\n",
       "\n",
       "    .dataframe thead th {\n",
       "        text-align: right;\n",
       "    }\n",
       "</style>\n",
       "<table border=\"1\" class=\"dataframe\">\n",
       "  <thead>\n",
       "    <tr style=\"text-align: right;\">\n",
       "      <th></th>\n",
       "      <th>dtypes</th>\n",
       "      <th>null_values</th>\n",
       "      <th>0</th>\n",
       "      <th>1</th>\n",
       "      <th>2</th>\n",
       "    </tr>\n",
       "  </thead>\n",
       "  <tbody>\n",
       "    <tr>\n",
       "      <th>show_id</th>\n",
       "      <td>int64</td>\n",
       "      <td>0</td>\n",
       "      <td>81145628</td>\n",
       "      <td>80117401</td>\n",
       "      <td>70234439</td>\n",
       "    </tr>\n",
       "    <tr>\n",
       "      <th>type</th>\n",
       "      <td>object</td>\n",
       "      <td>0</td>\n",
       "      <td>Movie</td>\n",
       "      <td>Movie</td>\n",
       "      <td>TV Show</td>\n",
       "    </tr>\n",
       "    <tr>\n",
       "      <th>title</th>\n",
       "      <td>object</td>\n",
       "      <td>0</td>\n",
       "      <td>Norm of the North: King Sized Adventure</td>\n",
       "      <td>Jandino: Whatever it Takes</td>\n",
       "      <td>Transformers Prime</td>\n",
       "    </tr>\n",
       "    <tr>\n",
       "      <th>director</th>\n",
       "      <td>object</td>\n",
       "      <td>1970</td>\n",
       "      <td>Richard Finn, Tim Maltby</td>\n",
       "      <td>NaN</td>\n",
       "      <td>NaN</td>\n",
       "    </tr>\n",
       "    <tr>\n",
       "      <th>cast</th>\n",
       "      <td>object</td>\n",
       "      <td>1</td>\n",
       "      <td>Alan Marriott, Andrew Toth, Brian Dobson, Cole...</td>\n",
       "      <td>Jandino Asporaat</td>\n",
       "      <td>Peter Cullen, Sumalee Montano, Frank Welker, J...</td>\n",
       "    </tr>\n",
       "    <tr>\n",
       "      <th>country</th>\n",
       "      <td>object</td>\n",
       "      <td>1</td>\n",
       "      <td>United States, India, South Korea, China</td>\n",
       "      <td>United Kingdom</td>\n",
       "      <td>United States</td>\n",
       "    </tr>\n",
       "    <tr>\n",
       "      <th>date_added</th>\n",
       "      <td>datetime64[ns]</td>\n",
       "      <td>12</td>\n",
       "      <td>2019-09-09 00:00:00</td>\n",
       "      <td>2016-09-09 00:00:00</td>\n",
       "      <td>2018-09-08 00:00:00</td>\n",
       "    </tr>\n",
       "    <tr>\n",
       "      <th>release_year</th>\n",
       "      <td>float64</td>\n",
       "      <td>1</td>\n",
       "      <td>2019.0</td>\n",
       "      <td>2016.0</td>\n",
       "      <td>2013.0</td>\n",
       "    </tr>\n",
       "    <tr>\n",
       "      <th>rating</th>\n",
       "      <td>float64</td>\n",
       "      <td>1</td>\n",
       "      <td>41.0</td>\n",
       "      <td>52.0</td>\n",
       "      <td>82.0</td>\n",
       "    </tr>\n",
       "    <tr>\n",
       "      <th>duration</th>\n",
       "      <td>object</td>\n",
       "      <td>1</td>\n",
       "      <td>90 min</td>\n",
       "      <td>94 min</td>\n",
       "      <td>1 Season</td>\n",
       "    </tr>\n",
       "    <tr>\n",
       "      <th>listed_in</th>\n",
       "      <td>object</td>\n",
       "      <td>1</td>\n",
       "      <td>Children &amp; Family Movies, Comedies</td>\n",
       "      <td>Stand-Up Comedy</td>\n",
       "      <td>Kids' TV</td>\n",
       "    </tr>\n",
       "    <tr>\n",
       "      <th>description</th>\n",
       "      <td>object</td>\n",
       "      <td>1</td>\n",
       "      <td>Before planning an awesome wedding for his gra...</td>\n",
       "      <td>Jandino Asporaat riffs on the challenges of ra...</td>\n",
       "      <td>With the help of three human allies, the Autob...</td>\n",
       "    </tr>\n",
       "  </tbody>\n",
       "</table>\n",
       "</div>"
      ],
      "text/plain": [
       "                      dtypes  null_values                                                  0                                                  1                                                  2\n",
       "show_id                int64            0                                           81145628                                           80117401                                           70234439\n",
       "type                  object            0                                              Movie                                              Movie                                            TV Show\n",
       "title                 object            0            Norm of the North: King Sized Adventure                         Jandino: Whatever it Takes                                 Transformers Prime\n",
       "director              object         1970                           Richard Finn, Tim Maltby                                                NaN                                                NaN\n",
       "cast                  object            1  Alan Marriott, Andrew Toth, Brian Dobson, Cole...                                   Jandino Asporaat  Peter Cullen, Sumalee Montano, Frank Welker, J...\n",
       "country               object            1           United States, India, South Korea, China                                     United Kingdom                                      United States\n",
       "date_added    datetime64[ns]           12                                2019-09-09 00:00:00                                2016-09-09 00:00:00                                2018-09-08 00:00:00\n",
       "release_year         float64            1                                             2019.0                                             2016.0                                             2013.0\n",
       "rating               float64            1                                               41.0                                               52.0                                               82.0\n",
       "duration              object            1                                             90 min                                             94 min                                           1 Season\n",
       "listed_in             object            1                 Children & Family Movies, Comedies                                    Stand-Up Comedy                                           Kids' TV\n",
       "description           object            1  Before planning an awesome wedding for his gra...  Jandino Asporaat riffs on the challenges of ra...  With the help of three human allies, the Autob..."
      ]
     },
     "execution_count": 278,
     "metadata": {},
     "output_type": "execute_result"
    }
   ],
   "source": [
    "pd.concat([\n",
    "    pd.Series(data.dtypes, name='dtypes'), \n",
    "    pd.Series(data.isna().sum(), name='null_values'), \n",
    "    data.head(3).T], \n",
    "    axis=1)\n",
    "    # The target has one null value, this case I'll delete them and replace the others nullable values"
   ]
  },
  {
   "cell_type": "code",
   "execution_count": 279,
   "metadata": {},
   "outputs": [],
   "source": [
    "# Variables changes\n",
    "def var_changes(data):\n",
    "        \n",
    "    # delete and replace all nullable values\n",
    "    data = data[data['rating'].notnull()]\n",
    "    data = data.dropna(how='all') # delet the line if all line null\n",
    "    data['date_added'] = data['date_added'].fillna('1970-01-01')\n",
    "    data['release_year'] = data['release_year'].fillna(0)\n",
    "    data['rating'] = data['rating'].fillna(0)\n",
    "    data = data.fillna('')\n",
    "\n",
    "    # change dtype for simply, less memory and better performance\n",
    "    data['date_added'] = pd.to_datetime(data['date_added'])\n",
    "    data['release_year'] = data['release_year'].astype('int32')\n",
    "    data['rating'] = data['rating'].astype('int32')\n",
    "\n",
    "    # deleting\n",
    "    data = data.drop('show_id', axis=1)\n",
    "    return data\n",
    "\n",
    "data = var_changes(data)"
   ]
  },
  {
   "cell_type": "code",
   "execution_count": 280,
   "metadata": {},
   "outputs": [
    {
     "data": {
      "text/html": [
       "<div>\n",
       "<style scoped>\n",
       "    .dataframe tbody tr th:only-of-type {\n",
       "        vertical-align: middle;\n",
       "    }\n",
       "\n",
       "    .dataframe tbody tr th {\n",
       "        vertical-align: top;\n",
       "    }\n",
       "\n",
       "    .dataframe thead th {\n",
       "        text-align: right;\n",
       "    }\n",
       "</style>\n",
       "<table border=\"1\" class=\"dataframe\">\n",
       "  <thead>\n",
       "    <tr style=\"text-align: right;\">\n",
       "      <th></th>\n",
       "      <th>dtypes</th>\n",
       "      <th>null_values</th>\n",
       "      <th>0</th>\n",
       "      <th>1</th>\n",
       "      <th>2</th>\n",
       "    </tr>\n",
       "  </thead>\n",
       "  <tbody>\n",
       "    <tr>\n",
       "      <th>type</th>\n",
       "      <td>object</td>\n",
       "      <td>0</td>\n",
       "      <td>Movie</td>\n",
       "      <td>Movie</td>\n",
       "      <td>TV Show</td>\n",
       "    </tr>\n",
       "    <tr>\n",
       "      <th>title</th>\n",
       "      <td>object</td>\n",
       "      <td>0</td>\n",
       "      <td>Norm of the North: King Sized Adventure</td>\n",
       "      <td>Jandino: Whatever it Takes</td>\n",
       "      <td>Transformers Prime</td>\n",
       "    </tr>\n",
       "    <tr>\n",
       "      <th>director</th>\n",
       "      <td>object</td>\n",
       "      <td>0</td>\n",
       "      <td>Richard Finn, Tim Maltby</td>\n",
       "      <td></td>\n",
       "      <td></td>\n",
       "    </tr>\n",
       "    <tr>\n",
       "      <th>cast</th>\n",
       "      <td>object</td>\n",
       "      <td>0</td>\n",
       "      <td>Alan Marriott, Andrew Toth, Brian Dobson, Cole...</td>\n",
       "      <td>Jandino Asporaat</td>\n",
       "      <td>Peter Cullen, Sumalee Montano, Frank Welker, J...</td>\n",
       "    </tr>\n",
       "    <tr>\n",
       "      <th>country</th>\n",
       "      <td>object</td>\n",
       "      <td>0</td>\n",
       "      <td>United States, India, South Korea, China</td>\n",
       "      <td>United Kingdom</td>\n",
       "      <td>United States</td>\n",
       "    </tr>\n",
       "    <tr>\n",
       "      <th>date_added</th>\n",
       "      <td>datetime64[ns]</td>\n",
       "      <td>0</td>\n",
       "      <td>2019-09-09 00:00:00</td>\n",
       "      <td>2016-09-09 00:00:00</td>\n",
       "      <td>2018-09-08 00:00:00</td>\n",
       "    </tr>\n",
       "    <tr>\n",
       "      <th>release_year</th>\n",
       "      <td>int32</td>\n",
       "      <td>0</td>\n",
       "      <td>2019</td>\n",
       "      <td>2016</td>\n",
       "      <td>2013</td>\n",
       "    </tr>\n",
       "    <tr>\n",
       "      <th>rating</th>\n",
       "      <td>int32</td>\n",
       "      <td>0</td>\n",
       "      <td>41</td>\n",
       "      <td>52</td>\n",
       "      <td>82</td>\n",
       "    </tr>\n",
       "    <tr>\n",
       "      <th>duration</th>\n",
       "      <td>object</td>\n",
       "      <td>0</td>\n",
       "      <td>90 min</td>\n",
       "      <td>94 min</td>\n",
       "      <td>1 Season</td>\n",
       "    </tr>\n",
       "    <tr>\n",
       "      <th>listed_in</th>\n",
       "      <td>object</td>\n",
       "      <td>0</td>\n",
       "      <td>Children &amp; Family Movies, Comedies</td>\n",
       "      <td>Stand-Up Comedy</td>\n",
       "      <td>Kids' TV</td>\n",
       "    </tr>\n",
       "    <tr>\n",
       "      <th>description</th>\n",
       "      <td>object</td>\n",
       "      <td>0</td>\n",
       "      <td>Before planning an awesome wedding for his gra...</td>\n",
       "      <td>Jandino Asporaat riffs on the challenges of ra...</td>\n",
       "      <td>With the help of three human allies, the Autob...</td>\n",
       "    </tr>\n",
       "  </tbody>\n",
       "</table>\n",
       "</div>"
      ],
      "text/plain": [
       "                      dtypes  null_values                                                  0                                                  1                                                  2\n",
       "type                  object            0                                              Movie                                              Movie                                            TV Show\n",
       "title                 object            0            Norm of the North: King Sized Adventure                         Jandino: Whatever it Takes                                 Transformers Prime\n",
       "director              object            0                           Richard Finn, Tim Maltby                                                                                                      \n",
       "cast                  object            0  Alan Marriott, Andrew Toth, Brian Dobson, Cole...                                   Jandino Asporaat  Peter Cullen, Sumalee Montano, Frank Welker, J...\n",
       "country               object            0           United States, India, South Korea, China                                     United Kingdom                                      United States\n",
       "date_added    datetime64[ns]            0                                2019-09-09 00:00:00                                2016-09-09 00:00:00                                2018-09-08 00:00:00\n",
       "release_year           int32            0                                               2019                                               2016                                               2013\n",
       "rating                 int32            0                                                 41                                                 52                                                 82\n",
       "duration              object            0                                             90 min                                             94 min                                           1 Season\n",
       "listed_in             object            0                 Children & Family Movies, Comedies                                    Stand-Up Comedy                                           Kids' TV\n",
       "description           object            0  Before planning an awesome wedding for his gra...  Jandino Asporaat riffs on the challenges of ra...  With the help of three human allies, the Autob..."
      ]
     },
     "execution_count": 280,
     "metadata": {},
     "output_type": "execute_result"
    }
   ],
   "source": [
    "pd.concat([\n",
    "    pd.Series(data.dtypes, name='dtypes'), \n",
    "    pd.Series(data.isna().sum(), name='null_values'), \n",
    "    data.head(3).T], \n",
    "    axis=1)\n",
    "# all data null changed"
   ]
  },
  {
   "cell_type": "markdown",
   "metadata": {},
   "source": [
    "### 2.5 - Saving data to silver layer"
   ]
  },
  {
   "cell_type": "code",
   "execution_count": 281,
   "metadata": {},
   "outputs": [],
   "source": [
    "# saving the data cleaned on silver layer\n",
    "data.to_parquet(\"../dataset/silver/netflix_data.parquet\")"
   ]
  },
  {
   "cell_type": "markdown",
   "metadata": {},
   "source": [
    "## 4.0 - Exploratory Data Analysis"
   ]
  },
  {
   "cell_type": "markdown",
   "metadata": {},
   "source": [
    "> The future engineering will be create with EDA will be doing"
   ]
  },
  {
   "cell_type": "code",
   "execution_count": 354,
   "metadata": {},
   "outputs": [],
   "source": [
    "# extracting data from silver layer\n",
    "data = pd.read_parquet(\"../dataset/silver/netflix_data.parquet\")"
   ]
  },
  {
   "cell_type": "code",
   "execution_count": 284,
   "metadata": {},
   "outputs": [
    {
     "name": "stderr",
     "output_type": "stream",
     "text": [
      "Summarize dataset: 100%|██████████| 34/34 [00:05<00:00,  6.29it/s, Completed]                         \n",
      "Generate report structure: 100%|██████████| 1/1 [00:05<00:00,  5.28s/it]\n",
      "Render HTML: 100%|██████████| 1/1 [00:00<00:00,  1.53it/s]\n",
      "Export report to file: 100%|██████████| 1/1 [00:00<00:00, 258.57it/s]\n"
     ]
    }
   ],
   "source": [
    "report = ProfileReport(data, title=\"Netflix reports\", dark_mode=True)\n",
    "report.to_file('netflix_report.html')"
   ]
  },
  {
   "cell_type": "markdown",
   "metadata": {},
   "source": [
    "### 4.0 - Hypothesis "
   ]
  },
  {
   "cell_type": "markdown",
   "metadata": {},
   "source": [
    "> List the possible hypothesis or business statements\n",
    "\n",
    "* The top movies are from The united states\n",
    "* The top Tv Series are from The united states\n",
    "* The top movies are about heroes\n",
    "* The top movies are stories from books\n",
    "* How more recently movie and from the United States it's better\n",
    "* How more awards better the rating\n",
    "\n",
    "> Will be answer on the next cycle"
   ]
  },
  {
   "cell_type": "markdown",
   "metadata": {},
   "source": [
    "#### 4.1 Target"
   ]
  },
  {
   "cell_type": "code",
   "execution_count": 355,
   "metadata": {},
   "outputs": [
    {
     "data": {
      "text/plain": [
       "<AxesSubplot:xlabel='rating', ylabel='Count'>"
      ]
     },
     "execution_count": 355,
     "metadata": {},
     "output_type": "execute_result"
    },
    {
     "data": {
      "image/png": "[encoded data removed]",
      "text/plain": [
       "<Figure size 1296x648 with 6 Axes>"
      ]
     },
     "metadata": {},
     "output_type": "display_data"
    }
   ],
   "source": [
    "grid = plt.GridSpec(3,2)\n",
    "\n",
    "# target distribution\n",
    "plt.subplot(grid[0,0])\n",
    "sns.histplot(data['rating'], kde=True);\n",
    "\n",
    "# Target without zero values\n",
    "plt.subplot(grid[0,1])\n",
    "sns.histplot(data['rating'][data['rating'] > 0], kde=True);\n",
    "\n",
    "# Boxplot to see the outliers\n",
    "plt.subplot(grid[1,0])\n",
    "sns.boxplot(x=data['rating']);\n",
    "\n",
    "# Boxplot to see the outliers\n",
    "plt.subplot(grid[1,1])\n",
    "sns.boxplot(x=data['rating'][data['rating'] > 0]);\n",
    "\n",
    "# Analysing normalization\n",
    "plt.subplot(grid[2,0])\n",
    "sns.histplot(np.log1p(data['rating']), kde=True)\n",
    "\n",
    "# Analysing normalization\n",
    "plt.subplot(grid[2,1])\n",
    "sns.histplot(np.log1p(data['rating'][data['rating'] > 0]), kde=True)\n",
    "\n",
    "# Let's left the original, we'll just filter where > 0"
   ]
  },
  {
   "cell_type": "code",
   "execution_count": 356,
   "metadata": {},
   "outputs": [],
   "source": [
    "# filtering the data only upper of zero\n",
    "data = data[data['rating'] > 0]"
   ]
  },
  {
   "cell_type": "markdown",
   "metadata": {},
   "source": [
    "#### 4.2 Numeric"
   ]
  },
  {
   "cell_type": "code",
   "execution_count": 301,
   "metadata": {},
   "outputs": [
    {
     "data": {
      "image/png": "[encoded data removed]",
      "text/plain": [
       "<Figure size 1296x648 with 4 Axes>"
      ]
     },
     "metadata": {},
     "output_type": "display_data"
    }
   ],
   "source": [
    "data.select_dtypes(exclude=['object']).hist(bins=25);\n",
    "# Let's drop col -> show_id"
   ]
  },
  {
   "cell_type": "code",
   "execution_count": null,
   "metadata": {},
   "outputs": [
    {
     "data": {
      "image/png": "[encoded data removed]",
      "text/plain": [
       "<Figure size 1296x648 with 4 Axes>"
      ]
     },
     "metadata": {},
     "output_type": "display_data"
    }
   ],
   "source": [
    "# Slicing and filter for just numbers and date data types\n",
    "num_attributes = data.select_dtypes(exclude='object')\n",
    "\n",
    "grid = plt.GridSpec(2,2)\n",
    "\n",
    "# Plotting heatmap\n",
    "plt.subplot(grid[0,0])\n",
    "sns.heatmap(num_attributes.corr(method='pearson'), annot=True);\n",
    "\n",
    "plt.subplot(grid[0,1])\n",
    "sns.boxplot(x=data['release_year']); \n",
    "\n",
    "plt.subplot(grid[1,0])\n",
    "sns.regplot(data=data, x='release_year', y=\"rating\");\n",
    "\n",
    "# There are a consistently grouwing in a number of rating along years\n",
    "# release_year there aren't a correlation with ratingj"
   ]
  },
  {
   "cell_type": "code",
   "execution_count": 358,
   "metadata": {},
   "outputs": [],
   "source": [
    "data['year_added'] = data['date_added'].dt.year\n",
    "data['month_added'] = data['date_added'].dt.month\n",
    "data['day_added'] = data['date_added'].dt.day\n",
    "\n",
    "# drop old column\n",
    "data = data.drop(['date_added'], axis=1)"
   ]
  },
  {
   "cell_type": "markdown",
   "metadata": {},
   "source": [
    "### 4.3 - Category"
   ]
  },
  {
   "cell_type": "code",
   "execution_count": 303,
   "metadata": {},
   "outputs": [],
   "source": [
    "# Slicing and filter for just objects data types\n",
    "cat_attributes = data.select_dtypes(include='object')\n",
    "\n",
    "# For to get name of coluns and calculate cramer_v function \n",
    "list_cat = {}\n",
    "rown = []\n",
    "for col in cat_attributes.columns:\n",
    "    for row in cat_attributes.columns:\n",
    "        rown.append(cramer_v(cat_attributes[col], cat_attributes[row]))\n",
    "        \n",
    "    list_cat[col] = rown\n",
    "    rown = []\n",
    "    \n",
    "# take the output from loop and convert to DataFrame\n",
    "df_cat = pd.DataFrame(list_cat)\n",
    "df_cat = df_cat.set_index(df_cat.columns)"
   ]
  },
  {
   "cell_type": "code",
   "execution_count": 304,
   "metadata": {},
   "outputs": [
    {
     "data": {
      "text/plain": [
       "Text(0.5, 1.0, 'Correlation of all categories variable')"
      ]
     },
     "execution_count": 304,
     "metadata": {},
     "output_type": "execute_result"
    },
    {
     "data": {
      "image/png": "[encoded data removed]",
      "text/plain": [
       "<Figure size 1296x648 with 2 Axes>"
      ]
     },
     "metadata": {},
     "output_type": "display_data"
    }
   ],
   "source": [
    "# plotting heatmap to cross correlation\n",
    "sns.heatmap(df_cat.corr(method='pearson'), annot=True, );\n",
    "plt.title(\"Correlation of all categories variable\")\n",
    "\n",
    "# there aren't a strong correlation, but might be not need remove anyone\n",
    "# Obs, Pearson it's not correct method for categories, just to first view"
   ]
  },
  {
   "cell_type": "markdown",
   "metadata": {},
   "source": [
    "#### column type"
   ]
  },
  {
   "cell_type": "code",
   "execution_count": 305,
   "metadata": {},
   "outputs": [
    {
     "name": "stdout",
     "output_type": "stream",
     "text": [
      "Movie      4085\n",
      "TV Show    1818\n",
      "Name: type, dtype: int64\n"
     ]
    },
    {
     "data": {
      "text/plain": [
       "Text(0.5, 1.0, 'Correlation for rating and type')"
      ]
     },
     "execution_count": 305,
     "metadata": {},
     "output_type": "execute_result"
    },
    {
     "data": {
      "image/png": "[encoded data removed]",
      "text/plain": [
       "<Figure size 1296x648 with 3 Axes>"
      ]
     },
     "metadata": {},
     "output_type": "display_data"
    }
   ],
   "source": [
    "print(data['type'].value_counts())\n",
    "# type - transform to numeric\n",
    "type_num = data['type'].map({'Movie':0, 'TV Show':1})\n",
    "\n",
    "grid = plt.GridSpec(1,2)\n",
    "\n",
    "plt.subplot(grid[0,0])\n",
    "sns.countplot(x=data['type']);\n",
    "plt.title(\"Balanced of\")\n",
    "\n",
    "plt.subplot(grid[0,1])\n",
    "sns.heatmap(\n",
    "    pd.concat([data['rating'], type_num], axis=1)\n",
    "    .corr(method='pearson'), annot=True);\n",
    "plt.title(\"Correlation for rating and type\")"
   ]
  },
  {
   "cell_type": "code",
   "execution_count": 359,
   "metadata": {},
   "outputs": [],
   "source": [
    "# engoding the type\n",
    "data['type'] = data['type'].map({'Movie':0, 'TV Show':1})"
   ]
  },
  {
   "cell_type": "markdown",
   "metadata": {},
   "source": [
    "#### duration"
   ]
  },
  {
   "cell_type": "code",
   "execution_count": 307,
   "metadata": {},
   "outputs": [
    {
     "data": {
      "text/plain": [
       "1 Season     1190\n",
       "2 Seasons     291\n",
       "3 Seasons     155\n",
       "Name: duration, dtype: int64"
      ]
     },
     "execution_count": 307,
     "metadata": {},
     "output_type": "execute_result"
    }
   ],
   "source": [
    "data['duration'].value_counts().head(3)"
   ]
  },
  {
   "cell_type": "markdown",
   "metadata": {},
   "source": [
    "The statinvestor show that meaning of each episodes for many kind of tv shows\n",
    "\n",
    "https://statinvestor.com/data/21444/episode-length-of-selected-tv-shows/\n"
   ]
  },
  {
   "cell_type": "code",
   "execution_count": 360,
   "metadata": {},
   "outputs": [],
   "source": [
    "# getiing only number of seasons and min per movie\n",
    "data[\"duration\"] =  [int(\n",
    "    x.split()[0]) for x in data['duration'].fillna('0')]"
   ]
  },
  {
   "cell_type": "code",
   "execution_count": 309,
   "metadata": {},
   "outputs": [
    {
     "data": {
      "image/png": "[encoded data removed]",
      "text/plain": [
       "<Figure size 360x360 with 1 Axes>"
      ]
     },
     "metadata": {},
     "output_type": "display_data"
    }
   ],
   "source": [
    "sns.displot(x=data['duration'], kde=True);\n",
    "# as you see, the is a rightest kurtosis, let's down that"
   ]
  },
  {
   "cell_type": "code",
   "execution_count": 310,
   "metadata": {},
   "outputs": [
    {
     "data": {
      "text/html": [
       "<div>\n",
       "<style scoped>\n",
       "    .dataframe tbody tr th:only-of-type {\n",
       "        vertical-align: middle;\n",
       "    }\n",
       "\n",
       "    .dataframe tbody tr th {\n",
       "        vertical-align: top;\n",
       "    }\n",
       "\n",
       "    .dataframe thead th {\n",
       "        text-align: right;\n",
       "    }\n",
       "</style>\n",
       "<table border=\"1\" class=\"dataframe\">\n",
       "  <thead>\n",
       "    <tr style=\"text-align: right;\">\n",
       "      <th></th>\n",
       "      <th>tv_shows_name</th>\n",
       "      <th>mean_time</th>\n",
       "    </tr>\n",
       "  </thead>\n",
       "  <tbody>\n",
       "    <tr>\n",
       "      <th>0</th>\n",
       "      <td>Sherlock</td>\n",
       "      <td>88.3</td>\n",
       "    </tr>\n",
       "    <tr>\n",
       "      <th>1</th>\n",
       "      <td>Westworld</td>\n",
       "      <td>61.7</td>\n",
       "    </tr>\n",
       "    <tr>\n",
       "      <th>2</th>\n",
       "      <td>Preacher</td>\n",
       "      <td>60.3</td>\n",
       "    </tr>\n",
       "  </tbody>\n",
       "</table>\n",
       "</div>"
      ],
      "text/plain": [
       "  tv_shows_name  mean_time\n",
       "0      Sherlock       88.3\n",
       "1     Westworld       61.7\n",
       "2      Preacher       60.3"
      ]
     },
     "execution_count": 310,
     "metadata": {},
     "output_type": "execute_result"
    }
   ],
   "source": [
    "# extractin data from statinvestor for getting the mean of episodes\n",
    "url = 'http://statinvestor.com/data/21444/episode-length-of-selected-tv-shows/'\n",
    "response = requests.get(url=url)\n",
    "\n",
    "# extracting table from html\n",
    "tv_shows = pd.read_html(response.text)[0].rename(\n",
    "    columns={0:'tv_shows_name', 1:'mean_time'\n",
    "})\n",
    "tv_shows.head(3)"
   ]
  },
  {
   "cell_type": "code",
   "execution_count": 311,
   "metadata": {},
   "outputs": [
    {
     "data": {
      "image/png": "[encoded data removed]",
      "text/plain": [
       "<Figure size 1296x648 with 1 Axes>"
      ]
     },
     "metadata": {},
     "output_type": "display_data"
    }
   ],
   "source": [
    "tv_shows.hist(bins=35);\n",
    "# it's a poisson distribution"
   ]
  },
  {
   "cell_type": "code",
   "execution_count": 312,
   "metadata": {},
   "outputs": [
    {
     "data": {
      "text/plain": [
       "45.018867924528294"
      ]
     },
     "execution_count": 312,
     "metadata": {},
     "output_type": "execute_result"
    }
   ],
   "source": [
    "tv_shows['mean_time'].mean()"
   ]
  },
  {
   "cell_type": "code",
   "execution_count": 361,
   "metadata": {},
   "outputs": [],
   "source": [
    "# for while let's get the mean of all tv shows\n",
    "ind_tv = data['duration'][data['type'] == 1].index\n",
    "data.loc[ind_tv, 'duration'] = tv_shows['mean_time'].mean().round()"
   ]
  },
  {
   "cell_type": "code",
   "execution_count": 314,
   "metadata": {},
   "outputs": [
    {
     "data": {
      "image/png": "[encoded data removed]",
      "text/plain": [
       "<Figure size 360x360 with 1 Axes>"
      ]
     },
     "metadata": {},
     "output_type": "display_data"
    }
   ],
   "source": [
    "sns.displot(x=data['duration'], kde=True);"
   ]
  },
  {
   "cell_type": "code",
   "execution_count": 362,
   "metadata": {},
   "outputs": [],
   "source": [
    "pt = PowerTransformer(method='box-cox')\n",
    "pt.fit(data[['duration']]).lambdas_\n",
    "data['duration'] = pt.transform(data[['duration']])"
   ]
  },
  {
   "cell_type": "code",
   "execution_count": 316,
   "metadata": {},
   "outputs": [
    {
     "data": {
      "image/png": "[encoded data removed]",
      "text/plain": [
       "<Figure size 360x360 with 1 Axes>"
      ]
     },
     "metadata": {},
     "output_type": "display_data"
    }
   ],
   "source": [
    "sns.displot(x=data['duration'], kde=True);"
   ]
  },
  {
   "cell_type": "markdown",
   "metadata": {},
   "source": [
    "#### country"
   ]
  },
  {
   "cell_type": "code",
   "execution_count": 317,
   "metadata": {},
   "outputs": [
    {
     "name": "stdout",
     "output_type": "stream",
     "text": [
      "(547,)\n"
     ]
    },
    {
     "data": {
      "image/png": "[encoded data removed]",
      "text/plain": [
       "<Figure size 1296x648 with 1 Axes>"
      ]
     },
     "metadata": {},
     "output_type": "display_data"
    }
   ],
   "source": [
    "print(data['country'].value_counts().shape)\n",
    "sns.countplot(x=data['country'].value_counts());\n",
    "# for the first cycle I will just crate dummies with frequency > 5\n",
    "# next cycle, it'll be cleaned and dimentionality reduction"
   ]
  },
  {
   "cell_type": "code",
   "execution_count": 363,
   "metadata": {},
   "outputs": [],
   "source": [
    "df_dum = pd.get_dummies(data['country'])\n",
    "df_dum_red = pd.DataFrame()\n",
    "for col in df_dum:\n",
    "    if df_dum[col].sum() > 5:\n",
    "        df_dum_red[col] = df_dum[col]\n",
    "\n",
    "data = pd.concat([data, df_dum_red], axis=1)\n",
    "\n",
    "# removing old columns\n",
    "dat = data.drop(['country'], axis=1)"
   ]
  },
  {
   "cell_type": "markdown",
   "metadata": {},
   "source": [
    "#### texts columns"
   ]
  },
  {
   "cell_type": "code",
   "execution_count": 322,
   "metadata": {},
   "outputs": [],
   "source": [
    "# title\n",
    "# split with ':'  and put in other column\n",
    "data['title_a'] = data['title'].apply(lambda x: x.split(':')[0])\n",
    "\n",
    "# director\n",
    "# split names with coma ','\n",
    "data['director_a'] = data['director'].apply(lambda x: x.split(',')[0])\n",
    "\n",
    "# cast\n",
    "# split names with coma ',' getting the first cast\n",
    "data['cast_a'] = data['director'].apply(lambda x: x.split(',')[0])\n",
    "\n",
    "# listed in\n",
    "# split names with coma ',' getting the first listed in\n",
    "data['listed_in_a'] = data['director'].apply(lambda x: x.split(',')[0])"
   ]
  },
  {
   "cell_type": "code",
   "execution_count": 365,
   "metadata": {},
   "outputs": [
    {
     "data": {
      "text/plain": [
       "(5903, 74)"
      ]
     },
     "execution_count": 365,
     "metadata": {},
     "output_type": "execute_result"
    }
   ],
   "source": [
    "data.shape"
   ]
  },
  {
   "cell_type": "code",
   "execution_count": 366,
   "metadata": {},
   "outputs": [],
   "source": [
    "data = data.drop([\n",
    "    'title', \n",
    "    'director', \n",
    "    'cast', \n",
    "    'listed_in', \n",
    "    'description'\n",
    "    ], axis=1)"
   ]
  },
  {
   "cell_type": "code",
   "execution_count": 367,
   "metadata": {},
   "outputs": [],
   "source": [
    "# tranforming title_a in one hot encode\n",
    "title_dum = pd.get_dummies(data['title_a'], prefix='title')\n",
    "df_dum = pd.DataFrame()\n",
    "for col in title_dum:\n",
    "    if title_dum[col].sum() >=3:\n",
    "        df_dum[col] = title_dum[col]\n",
    "data = pd.concat([data, df_dum], axis=1)\n",
    "data = data.drop(['title_a'], axis=1)"
   ]
  },
  {
   "cell_type": "code",
   "execution_count": 110,
   "metadata": {},
   "outputs": [],
   "source": [
    "# renaming the columns removing gaps\n",
    "col_list = list()\n",
    "for col in data.columns.to_list():\n",
    "    col_list.append(col.replace(' ', '_').replace(',', ''))\n",
    "\n",
    "data.columns = col_list"
   ]
  },
  {
   "cell_type": "markdown",
   "metadata": {},
   "source": [
    "## 5.0 - Modeling "
   ]
  },
  {
   "cell_type": "markdown",
   "metadata": {},
   "source": [
    "Preparing data"
   ]
  },
  {
   "cell_type": "code",
   "execution_count": 407,
   "metadata": {},
   "outputs": [],
   "source": [
    "# Loading splitted files on silver layer\n",
    "dataset = dict()\n",
    "dataset['df_train'] = pd.read_parquet('../dataset/silver/netflix_train.parquet')\n",
    "dataset['df_valid'] = pd.read_parquet('../dataset/silver/netflix_valid.parquet')\n",
    "dataset['df_test'] = pd.read_parquet('../dataset/silver/netflix_test.parquet')"
   ]
  },
  {
   "cell_type": "code",
   "execution_count": 408,
   "metadata": {},
   "outputs": [],
   "source": [
    "# ETL process to prepare data to modeling\n",
    "for df_name in dataset.keys():\n",
    "    df = data_cleaning(dataset[df_name])\n",
    "    df = feature_eng(df)\n",
    "    dataset[df_name] = data_transformation(df)"
   ]
  },
  {
   "cell_type": "code",
   "execution_count": 409,
   "metadata": {},
   "outputs": [
    {
     "data": {
      "text/plain": [
       "((4715, 62), (600, 62), (588, 62))"
      ]
     },
     "execution_count": 409,
     "metadata": {},
     "output_type": "execute_result"
    }
   ],
   "source": [
    "# shaping data as a train data shape to valid and test\n",
    "df_train, df_valid, df_test = pd.DataFrame(), pd.DataFrame(), pd.DataFrame()\n",
    "\n",
    "for col in dataset['df_train'].columns:\n",
    "    try:\n",
    "        df_train[col] = dataset['df_train'][col]\n",
    "    except:\n",
    "        df_train[col] = 0\n",
    "    try:\n",
    "        df_valid[col] = dataset['df_valid'][col]\n",
    "    except:\n",
    "        df_valid[col] = 0\n",
    "    try:\n",
    "        df_test[col] = dataset['df_test'][col]\n",
    "    except:\n",
    "        df_test[col] = 0\n",
    "\n",
    "\n",
    "df_train.shape, df_valid.shape, df_test.shape"
   ]
  },
  {
   "cell_type": "code",
   "execution_count": 410,
   "metadata": {},
   "outputs": [
    {
     "data": {
      "text/plain": [
       "((4715, 61), (4715,), (600, 61), (600,), (588, 61), (588,))"
      ]
     },
     "execution_count": 410,
     "metadata": {},
     "output_type": "execute_result"
    }
   ],
   "source": [
    "# splitting data\n",
    "x_train, y_train = df_train.drop('rating', axis=1), df_train['rating']\n",
    "x_valid, y_valid = df_valid.drop('rating', axis=1), df_valid['rating']\n",
    "x_test, y_test = df_test.drop('rating', axis=1), df_test['rating']\n",
    "\n",
    "# analizin shape\n",
    "x_train.shape, y_train.shape, x_valid.shape, y_valid.shape, x_test.shape, y_test.shape"
   ]
  },
  {
   "cell_type": "markdown",
   "metadata": {},
   "source": [
    "### 5.1 - Baseline"
   ]
  },
  {
   "cell_type": "markdown",
   "metadata": {},
   "source": [
    "### 5.2 - Models"
   ]
  },
  {
   "cell_type": "code",
   "execution_count": 411,
   "metadata": {},
   "outputs": [],
   "source": [
    "# models to use on training data\n",
    "\n",
    "models = {'Linear Regression':linear_model.LinearRegression(),\n",
    "    'Lasso': linear_model.Lasso(random_state=1),\n",
    "    'Ridge': linear_model.BayesianRidge(),\n",
    "    'SVM': svm.SVR(),\n",
    "    'Decision Tree Regressor': tree.DecisionTreeRegressor(random_state=1),\n",
    "    'KNN': neighbors.KNeighborsRegressor(5),\n",
    "    'Random Forest Regressor': RandomForestRegressor(random_state=1),\n",
    "    'Gradient Boosting': GradientBoostingRegressor(random_state=1),\n",
    "    'Cat Boost': CatBoostRegressor(verbose=False, random_seed=1)\n",
    "}"
   ]
  },
  {
   "cell_type": "code",
   "execution_count": 412,
   "metadata": {},
   "outputs": [],
   "source": [
    "# dict to store the results of validation and test\n",
    "results_valid = dict()\n",
    "results_test = dict()\n",
    "results_tvt = dict()\n",
    "\n",
    "for im in models:\n",
    "    # training model\n",
    "    model = models[im]\n",
    "    model = model.fit(x_train, y_train)\n",
    "    predictions = model.predict(x_valid)\n",
    "\n",
    "    # validation model trained\n",
    "    results_valid[im] = round(mean_absolute_error(y_valid, predictions), 2)\n",
    "    \n",
    "    # test model trained\n",
    "    predictions = model.predict(x_test)\n",
    "    results_test[im] = round(mean_absolute_error(y_test, predictions), 2)\n",
    "\n",
    "    # training with data train and valid together to test validation\n",
    "    x_train_valid = pd.concat([x_train, x_valid], axis=0)\n",
    "    y_train_valid = pd.concat([y_train, y_valid], axis=0)\n",
    "    # retraining model\n",
    "    model = models[im]\n",
    "    model.fit(x_train_valid, y_train_valid)\n",
    "    model.predict(x_test)\n",
    "    # store the results\n",
    "    results_tvt[im] = round(mean_absolute_error(y_test, predictions), 2)\n"
   ]
  },
  {
   "cell_type": "markdown",
   "metadata": {},
   "source": [
    "### 5.3 - Model Validation"
   ]
  },
  {
   "cell_type": "code",
   "execution_count": 413,
   "metadata": {},
   "outputs": [],
   "source": [
    "# creating dataframe with results for validation and test\n",
    "validation = pd.DataFrame(results_valid.items(), columns=['Model', 'MAE']).sort_values(by=\"MAE\")\n",
    "test = pd.DataFrame(results_test.items(), columns=['Model', 'MAE']).sort_values(by=\"MAE\")\n",
    "tvt_test = pd.DataFrame(results_tvt.items(), columns=['Model', 'MAE']).sort_values(by=\"MAE\")"
   ]
  },
  {
   "cell_type": "code",
   "execution_count": 414,
   "metadata": {},
   "outputs": [
    {
     "data": {
      "text/html": [
       "<div>\n",
       "<style scoped>\n",
       "    .dataframe tbody tr th:only-of-type {\n",
       "        vertical-align: middle;\n",
       "    }\n",
       "\n",
       "    .dataframe tbody tr th {\n",
       "        vertical-align: top;\n",
       "    }\n",
       "\n",
       "    .dataframe thead th {\n",
       "        text-align: right;\n",
       "    }\n",
       "</style>\n",
       "<table border=\"1\" class=\"dataframe\">\n",
       "  <thead>\n",
       "    <tr style=\"text-align: right;\">\n",
       "      <th></th>\n",
       "      <th>Model</th>\n",
       "      <th>MAE</th>\n",
       "    </tr>\n",
       "  </thead>\n",
       "  <tbody>\n",
       "    <tr>\n",
       "      <th>7</th>\n",
       "      <td>Gradient Boosting</td>\n",
       "      <td>8.21</td>\n",
       "    </tr>\n",
       "    <tr>\n",
       "      <th>8</th>\n",
       "      <td>Cat Boost</td>\n",
       "      <td>8.30</td>\n",
       "    </tr>\n",
       "    <tr>\n",
       "      <th>2</th>\n",
       "      <td>Ridge</td>\n",
       "      <td>8.51</td>\n",
       "    </tr>\n",
       "    <tr>\n",
       "      <th>0</th>\n",
       "      <td>Linear Regression</td>\n",
       "      <td>8.52</td>\n",
       "    </tr>\n",
       "    <tr>\n",
       "      <th>6</th>\n",
       "      <td>Random Forest Regressor</td>\n",
       "      <td>8.69</td>\n",
       "    </tr>\n",
       "    <tr>\n",
       "      <th>1</th>\n",
       "      <td>Lasso</td>\n",
       "      <td>8.79</td>\n",
       "    </tr>\n",
       "    <tr>\n",
       "      <th>3</th>\n",
       "      <td>SVM</td>\n",
       "      <td>9.27</td>\n",
       "    </tr>\n",
       "    <tr>\n",
       "      <th>5</th>\n",
       "      <td>KNN</td>\n",
       "      <td>9.66</td>\n",
       "    </tr>\n",
       "    <tr>\n",
       "      <th>4</th>\n",
       "      <td>Decision Tree Regressor</td>\n",
       "      <td>11.48</td>\n",
       "    </tr>\n",
       "  </tbody>\n",
       "</table>\n",
       "</div>"
      ],
      "text/plain": [
       "                     Model    MAE\n",
       "7        Gradient Boosting   8.21\n",
       "8                Cat Boost   8.30\n",
       "2                    Ridge   8.51\n",
       "0        Linear Regression   8.52\n",
       "6  Random Forest Regressor   8.69\n",
       "1                    Lasso   8.79\n",
       "3                      SVM   9.27\n",
       "5                      KNN   9.66\n",
       "4  Decision Tree Regressor  11.48"
      ]
     },
     "execution_count": 414,
     "metadata": {},
     "output_type": "execute_result"
    }
   ],
   "source": [
    "# with only training data used to training\n",
    "validation"
   ]
  },
  {
   "cell_type": "code",
   "execution_count": 415,
   "metadata": {},
   "outputs": [
    {
     "data": {
      "text/html": [
       "<div>\n",
       "<style scoped>\n",
       "    .dataframe tbody tr th:only-of-type {\n",
       "        vertical-align: middle;\n",
       "    }\n",
       "\n",
       "    .dataframe tbody tr th {\n",
       "        vertical-align: top;\n",
       "    }\n",
       "\n",
       "    .dataframe thead th {\n",
       "        text-align: right;\n",
       "    }\n",
       "</style>\n",
       "<table border=\"1\" class=\"dataframe\">\n",
       "  <thead>\n",
       "    <tr style=\"text-align: right;\">\n",
       "      <th></th>\n",
       "      <th>Model</th>\n",
       "      <th>MAE</th>\n",
       "    </tr>\n",
       "  </thead>\n",
       "  <tbody>\n",
       "    <tr>\n",
       "      <th>7</th>\n",
       "      <td>Gradient Boosting</td>\n",
       "      <td>8.32</td>\n",
       "    </tr>\n",
       "    <tr>\n",
       "      <th>8</th>\n",
       "      <td>Cat Boost</td>\n",
       "      <td>8.36</td>\n",
       "    </tr>\n",
       "    <tr>\n",
       "      <th>6</th>\n",
       "      <td>Random Forest Regressor</td>\n",
       "      <td>8.63</td>\n",
       "    </tr>\n",
       "    <tr>\n",
       "      <th>0</th>\n",
       "      <td>Linear Regression</td>\n",
       "      <td>8.66</td>\n",
       "    </tr>\n",
       "    <tr>\n",
       "      <th>2</th>\n",
       "      <td>Ridge</td>\n",
       "      <td>8.67</td>\n",
       "    </tr>\n",
       "    <tr>\n",
       "      <th>1</th>\n",
       "      <td>Lasso</td>\n",
       "      <td>9.24</td>\n",
       "    </tr>\n",
       "    <tr>\n",
       "      <th>5</th>\n",
       "      <td>KNN</td>\n",
       "      <td>9.40</td>\n",
       "    </tr>\n",
       "    <tr>\n",
       "      <th>3</th>\n",
       "      <td>SVM</td>\n",
       "      <td>9.78</td>\n",
       "    </tr>\n",
       "    <tr>\n",
       "      <th>4</th>\n",
       "      <td>Decision Tree Regressor</td>\n",
       "      <td>11.04</td>\n",
       "    </tr>\n",
       "  </tbody>\n",
       "</table>\n",
       "</div>"
      ],
      "text/plain": [
       "                     Model    MAE\n",
       "7        Gradient Boosting   8.32\n",
       "8                Cat Boost   8.36\n",
       "6  Random Forest Regressor   8.63\n",
       "0        Linear Regression   8.66\n",
       "2                    Ridge   8.67\n",
       "1                    Lasso   9.24\n",
       "5                      KNN   9.40\n",
       "3                      SVM   9.78\n",
       "4  Decision Tree Regressor  11.04"
      ]
     },
     "execution_count": 415,
     "metadata": {},
     "output_type": "execute_result"
    }
   ],
   "source": [
    "# with only training data used to training\n",
    "test"
   ]
  },
  {
   "cell_type": "markdown",
   "metadata": {},
   "source": [
    "### 5.4 - Cross Validation"
   ]
  },
  {
   "cell_type": "code",
   "execution_count": 416,
   "metadata": {},
   "outputs": [],
   "source": [
    "from sklearn.model_selection import cross_val_score\n",
    "from sklearn.metrics import mean_absolute_error, mean_squared_error, mean_absolute_percentage_error\n",
    "\n",
    "score_list = [\n",
    "    'neg_mean_absolute_percentage_error',\n",
    "    'neg_mean_absolute_error',\n",
    "    'neg_mean_squared_error',\n",
    "    'neg_mean_squared_log_error',\n",
    "    'explained_variance'\n",
    "]\n",
    "crv_n = [5, 10]\n",
    "score_cv = dict()\n",
    "\n",
    "regressor = GradientBoostingRegressor()\n",
    "for score_item in score_list:\n",
    "    for crv in crv_n:\n",
    "        score_cv[score_item+'_'+str(crv)] = cross_val_score(\n",
    "            regressor, x_train_valid, y_train_valid, cv=crv, scoring=score_item)\n",
    "\n",
    "\n",
    "df_score = pd.DataFrame([score_cv]).T.reset_index().rename(columns={'index':'model', 0:'value'})\n",
    "df_score['value'] = [np.mean(x) for x in df_score['value']]"
   ]
  },
  {
   "cell_type": "code",
   "execution_count": 417,
   "metadata": {},
   "outputs": [
    {
     "data": {
      "text/html": [
       "<div>\n",
       "<style scoped>\n",
       "    .dataframe tbody tr th:only-of-type {\n",
       "        vertical-align: middle;\n",
       "    }\n",
       "\n",
       "    .dataframe tbody tr th {\n",
       "        vertical-align: top;\n",
       "    }\n",
       "\n",
       "    .dataframe thead th {\n",
       "        text-align: right;\n",
       "    }\n",
       "</style>\n",
       "<table border=\"1\" class=\"dataframe\">\n",
       "  <thead>\n",
       "    <tr style=\"text-align: right;\">\n",
       "      <th></th>\n",
       "      <th>model</th>\n",
       "      <th>value</th>\n",
       "    </tr>\n",
       "  </thead>\n",
       "  <tbody>\n",
       "    <tr>\n",
       "      <th>0</th>\n",
       "      <td>neg_mean_absolute_percentage_error_5</td>\n",
       "      <td>-0.138321</td>\n",
       "    </tr>\n",
       "    <tr>\n",
       "      <th>1</th>\n",
       "      <td>neg_mean_absolute_percentage_error_10</td>\n",
       "      <td>-0.138231</td>\n",
       "    </tr>\n",
       "    <tr>\n",
       "      <th>2</th>\n",
       "      <td>neg_mean_absolute_error_5</td>\n",
       "      <td>-8.290168</td>\n",
       "    </tr>\n",
       "    <tr>\n",
       "      <th>3</th>\n",
       "      <td>neg_mean_absolute_error_10</td>\n",
       "      <td>-8.290103</td>\n",
       "    </tr>\n",
       "    <tr>\n",
       "      <th>4</th>\n",
       "      <td>neg_mean_squared_error_5</td>\n",
       "      <td>-113.368344</td>\n",
       "    </tr>\n",
       "    <tr>\n",
       "      <th>5</th>\n",
       "      <td>neg_mean_squared_error_10</td>\n",
       "      <td>-113.341315</td>\n",
       "    </tr>\n",
       "    <tr>\n",
       "      <th>6</th>\n",
       "      <td>neg_mean_squared_log_error_5</td>\n",
       "      <td>-0.030512</td>\n",
       "    </tr>\n",
       "    <tr>\n",
       "      <th>7</th>\n",
       "      <td>neg_mean_squared_log_error_10</td>\n",
       "      <td>-0.030525</td>\n",
       "    </tr>\n",
       "    <tr>\n",
       "      <th>8</th>\n",
       "      <td>explained_variance_5</td>\n",
       "      <td>0.175439</td>\n",
       "    </tr>\n",
       "    <tr>\n",
       "      <th>9</th>\n",
       "      <td>explained_variance_10</td>\n",
       "      <td>0.175660</td>\n",
       "    </tr>\n",
       "  </tbody>\n",
       "</table>\n",
       "</div>"
      ],
      "text/plain": [
       "                                   model       value\n",
       "0   neg_mean_absolute_percentage_error_5   -0.138321\n",
       "1  neg_mean_absolute_percentage_error_10   -0.138231\n",
       "2              neg_mean_absolute_error_5   -8.290168\n",
       "3             neg_mean_absolute_error_10   -8.290103\n",
       "4               neg_mean_squared_error_5 -113.368344\n",
       "5              neg_mean_squared_error_10 -113.341315\n",
       "6           neg_mean_squared_log_error_5   -0.030512\n",
       "7          neg_mean_squared_log_error_10   -0.030525\n",
       "8                   explained_variance_5    0.175439\n",
       "9                  explained_variance_10    0.175660"
      ]
     },
     "execution_count": 417,
     "metadata": {},
     "output_type": "execute_result"
    }
   ],
   "source": [
    "df_score"
   ]
  },
  {
   "cell_type": "code",
   "execution_count": null,
   "metadata": {},
   "outputs": [
    {
     "data": {
      "text/html": [
       "<div>\n",
       "<style scoped>\n",
       "    .dataframe tbody tr th:only-of-type {\n",
       "        vertical-align: middle;\n",
       "    }\n",
       "\n",
       "    .dataframe tbody tr th {\n",
       "        vertical-align: top;\n",
       "    }\n",
       "\n",
       "    .dataframe thead th {\n",
       "        text-align: right;\n",
       "    }\n",
       "</style>\n",
       "<table border=\"1\" class=\"dataframe\">\n",
       "  <thead>\n",
       "    <tr style=\"text-align: right;\">\n",
       "      <th></th>\n",
       "      <th>model</th>\n",
       "      <th>value</th>\n",
       "    </tr>\n",
       "  </thead>\n",
       "  <tbody>\n",
       "    <tr>\n",
       "      <th>0</th>\n",
       "      <td>neg_mean_absolute_percentage_error_5</td>\n",
       "      <td>-0.137227</td>\n",
       "    </tr>\n",
       "    <tr>\n",
       "      <th>1</th>\n",
       "      <td>neg_mean_absolute_percentage_error_10</td>\n",
       "      <td>-0.136955</td>\n",
       "    </tr>\n",
       "    <tr>\n",
       "      <th>2</th>\n",
       "      <td>neg_mean_absolute_error_5</td>\n",
       "      <td>-8.208922</td>\n",
       "    </tr>\n",
       "    <tr>\n",
       "      <th>3</th>\n",
       "      <td>neg_mean_absolute_error_10</td>\n",
       "      <td>-8.195459</td>\n",
       "    </tr>\n",
       "    <tr>\n",
       "      <th>4</th>\n",
       "      <td>neg_mean_squared_error_5</td>\n",
       "      <td>-111.554860</td>\n",
       "    </tr>\n",
       "    <tr>\n",
       "      <th>5</th>\n",
       "      <td>neg_mean_squared_error_10</td>\n",
       "      <td>-111.144917</td>\n",
       "    </tr>\n",
       "    <tr>\n",
       "      <th>6</th>\n",
       "      <td>neg_mean_squared_log_error_5</td>\n",
       "      <td>-0.030174</td>\n",
       "    </tr>\n",
       "    <tr>\n",
       "      <th>7</th>\n",
       "      <td>neg_mean_squared_log_error_10</td>\n",
       "      <td>-0.030034</td>\n",
       "    </tr>\n",
       "    <tr>\n",
       "      <th>8</th>\n",
       "      <td>explained_variance_5</td>\n",
       "      <td>0.188454</td>\n",
       "    </tr>\n",
       "    <tr>\n",
       "      <th>9</th>\n",
       "      <td>explained_variance_10</td>\n",
       "      <td>0.191271</td>\n",
       "    </tr>\n",
       "  </tbody>\n",
       "</table>\n",
       "</div>"
      ],
      "text/plain": [
       "                                   model       value\n",
       "0   neg_mean_absolute_percentage_error_5   -0.137227\n",
       "1  neg_mean_absolute_percentage_error_10   -0.136955\n",
       "2              neg_mean_absolute_error_5   -8.208922\n",
       "3             neg_mean_absolute_error_10   -8.195459\n",
       "4               neg_mean_squared_error_5 -111.554860\n",
       "5              neg_mean_squared_error_10 -111.144917\n",
       "6           neg_mean_squared_log_error_5   -0.030174\n",
       "7          neg_mean_squared_log_error_10   -0.030034\n",
       "8                   explained_variance_5    0.188454\n",
       "9                  explained_variance_10    0.191271"
      ]
     },
     "metadata": {},
     "output_type": "display_data"
    }
   ],
   "source": [
    "# with cast"
   ]
  },
  {
   "cell_type": "code",
   "execution_count": null,
   "metadata": {},
   "outputs": [
    {
     "data": {
      "text/html": [
       "<div>\n",
       "<style scoped>\n",
       "    .dataframe tbody tr th:only-of-type {\n",
       "        vertical-align: middle;\n",
       "    }\n",
       "\n",
       "    .dataframe tbody tr th {\n",
       "        vertical-align: top;\n",
       "    }\n",
       "\n",
       "    .dataframe thead th {\n",
       "        text-align: right;\n",
       "    }\n",
       "</style>\n",
       "<table border=\"1\" class=\"dataframe\">\n",
       "  <thead>\n",
       "    <tr style=\"text-align: right;\">\n",
       "      <th></th>\n",
       "      <th>model</th>\n",
       "      <th>value</th>\n",
       "    </tr>\n",
       "  </thead>\n",
       "  <tbody>\n",
       "    <tr>\n",
       "      <th>0</th>\n",
       "      <td>neg_mean_absolute_percentage_error_5</td>\n",
       "      <td>-0.138187</td>\n",
       "    </tr>\n",
       "    <tr>\n",
       "      <th>1</th>\n",
       "      <td>neg_mean_absolute_percentage_error_10</td>\n",
       "      <td>-0.137993</td>\n",
       "    </tr>\n",
       "    <tr>\n",
       "      <th>2</th>\n",
       "      <td>neg_mean_absolute_error_5</td>\n",
       "      <td>-8.281179</td>\n",
       "    </tr>\n",
       "    <tr>\n",
       "      <th>3</th>\n",
       "      <td>neg_mean_absolute_error_10</td>\n",
       "      <td>-8.267877</td>\n",
       "    </tr>\n",
       "    <tr>\n",
       "      <th>4</th>\n",
       "      <td>neg_mean_squared_error_5</td>\n",
       "      <td>-112.934692</td>\n",
       "    </tr>\n",
       "    <tr>\n",
       "      <th>5</th>\n",
       "      <td>neg_mean_squared_error_10</td>\n",
       "      <td>-112.710474</td>\n",
       "    </tr>\n",
       "    <tr>\n",
       "      <th>6</th>\n",
       "      <td>neg_mean_squared_log_error_5</td>\n",
       "      <td>-0.030449</td>\n",
       "    </tr>\n",
       "    <tr>\n",
       "      <th>7</th>\n",
       "      <td>neg_mean_squared_log_error_10</td>\n",
       "      <td>-0.030390</td>\n",
       "    </tr>\n",
       "    <tr>\n",
       "      <th>8</th>\n",
       "      <td>r2_5</td>\n",
       "      <td>0.177767</td>\n",
       "    </tr>\n",
       "    <tr>\n",
       "      <th>9</th>\n",
       "      <td>r2_10</td>\n",
       "      <td>0.179140</td>\n",
       "    </tr>\n",
       "    <tr>\n",
       "      <th>10</th>\n",
       "      <td>explained_variance_5</td>\n",
       "      <td>0.178506</td>\n",
       "    </tr>\n",
       "    <tr>\n",
       "      <th>11</th>\n",
       "      <td>explained_variance_10</td>\n",
       "      <td>0.180089</td>\n",
       "    </tr>\n",
       "  </tbody>\n",
       "</table>\n",
       "</div>"
      ],
      "text/plain": [
       "                                    model       value\n",
       "0    neg_mean_absolute_percentage_error_5   -0.138187\n",
       "1   neg_mean_absolute_percentage_error_10   -0.137993\n",
       "2               neg_mean_absolute_error_5   -8.281179\n",
       "3              neg_mean_absolute_error_10   -8.267877\n",
       "4                neg_mean_squared_error_5 -112.934692\n",
       "5               neg_mean_squared_error_10 -112.710474\n",
       "6            neg_mean_squared_log_error_5   -0.030449\n",
       "7           neg_mean_squared_log_error_10   -0.030390\n",
       "8                                    r2_5    0.177767\n",
       "9                                   r2_10    0.179140\n",
       "10                   explained_variance_5    0.178506\n",
       "11                  explained_variance_10    0.180089"
      ]
     },
     "metadata": {},
     "output_type": "display_data"
    }
   ],
   "source": [
    "# with title"
   ]
  },
  {
   "cell_type": "code",
   "execution_count": 248,
   "metadata": {},
   "outputs": [],
   "source": [
    "y_true_pred = pd.concat([\n",
    "    y_test, \n",
    "    pd.Series(predictions.astype('int'), index=y_test.index)],\n",
    "    axis=1)"
   ]
  },
  {
   "cell_type": "markdown",
   "metadata": {},
   "source": [
    "### 5.5 - Hyperparameters Fine Tuning"
   ]
  },
  {
   "cell_type": "code",
   "execution_count": 191,
   "metadata": {},
   "outputs": [],
   "source": [
    "model = GradientBoostingRegressor(random_state=1)\n",
    "model.fit(x_train_valid, y_train_valid)\n",
    "predict = model.predict(x_test)"
   ]
  },
  {
   "cell_type": "code",
   "execution_count": 198,
   "metadata": {},
   "outputs": [
    {
     "name": "stdout",
     "output_type": "stream",
     "text": [
      "8.688265693878519\n",
      "8.641792272590841\n",
      "8.636554189144885\n",
      "8.603274630692695\n",
      "8.577386296514819\n"
     ]
    }
   ],
   "source": [
    "# parameters for tuning\n",
    "alpha = [0.1, 0.3, 0.6, 0.9]\n",
    "ccp_alpha = [0.0, 0.1, 0.3, 0.6]\n",
    "learning_rate = [0.05, 0.1, 0.15, 0.2]\n",
    "n_estimators=[50, 100, 150, 350, 500, 700, 1000]\n",
    "subsample = [0.01, 0.02, 0.05, 0.07, 0.1, 0.3, 0.7]\n",
    "max_depth = [2, 3, 5, 6, 8]\n",
    "iterations = range(0, 7)\n",
    "best_mae = 8.8\n",
    "\n",
    "# randomly for tuning model\n",
    "for d in max_depth:\n",
    "    for l in learning_rate:\n",
    "        for i in iterations:\n",
    "            model = GradientBoostingRegressor(\n",
    "                max_depth=d, \n",
    "                n_estimators=n_estimators[i],\n",
    "                learning_rate=l,\n",
    "                subsample=subsample[i], \n",
    "                verbose=False, \n",
    "                random_state=1\n",
    "            )\n",
    "            model = model.fit(x_train_valid, y_train_valid)\n",
    "            predictions = model.predict(x_test)\n",
    "            mae = mean_absolute_error(y_test, predictions)\n",
    "            if mae < best_mae:\n",
    "                best_mae = mae\n",
    "                print(mae)"
   ]
  },
  {
   "cell_type": "markdown",
   "metadata": {},
   "source": [
    "### 5.6 - Final Model"
   ]
  },
  {
   "cell_type": "markdown",
   "metadata": {},
   "source": [
    "### 5.7 - Business Performance"
   ]
  },
  {
   "cell_type": "markdown",
   "metadata": {},
   "source": [
    "## 6.0 - Next steps to improve the solution"
   ]
  },
  {
   "cell_type": "markdown",
   "metadata": {},
   "source": [
    "* Create a solution to analyse the text \"sentiment analysis\" or others.\n",
    "* better feature engineering with more calculus.\n",
    "* Cross Validation and fine tunning.\n",
    "* Identify the principal actor on all cast column\n",
    "* Collect the data for imdb rating\n",
    "* Collect the data for design production and effects\n",
    "* Collect the data for the company that film the movie production\n",
    "* Collect the data for user (click, views, watched, etc)"
   ]
  }
 ],
 "metadata": {
  "interpreter": {
   "hash": "916dbcbb3f70747c44a77c7bcd40155683ae19c65e1c03b4aa3499c5328201f1"
  },
  "kernelspec": {
   "display_name": "Python 3.9.7 64-bit",
   "language": "python",
   "name": "python3"
  },
  "language_info": {
   "codemirror_mode": {
    "name": "ipython",
    "version": 3
   },
   "file_extension": ".py",
   "mimetype": "text/x-python",
   "name": "python",
   "nbconvert_exporter": "python",
   "pygments_lexer": "ipython3",
   "version": "3.9.7"
  },
  "orig_nbformat": 4
 },
 "nbformat": 4,
 "nbformat_minor": 2
}
